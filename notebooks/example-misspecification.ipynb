{
 "cells": [
  {
   "cell_type": "code",
   "execution_count": 40,
   "metadata": {},
   "outputs": [],
   "source": [
    "import numpy as np\n",
    "from bnb.problem import OptimizationProblem\n",
    "from matplotlib import pyplot as plt\n",
    "import matplotlib\n",
    "from scipy.optimize import minimize\n",
    "import pandas as pd\n",
    "import warnings\n",
    "import seaborn as sns\n",
    "sns.set()\n",
    "matplotlib.rcParams.update({'font.size': 11, 'font.family': 'serif'})"
   ]
  },
  {
   "cell_type": "code",
   "execution_count": 41,
   "metadata": {},
   "outputs": [],
   "source": [
    "class MisspecificationExample(OptimizationProblem):\n",
    "    \n",
    "    def revenue_true(self, p):\n",
    "        return np.sum([\n",
    "            segment.w * np.sum(p * segment.purchase_probabilities(p))\n",
    "            for segment in self.segments\n",
    "        ])\n",
    "    \n",
    "    def simulate_choices(self, k, price_range, seed=0):\n",
    "        np.random.seed(seed)\n",
    "        observed_prices = np.random.uniform(*price_range, size=(k, 1))    \n",
    "        purchase_probabilities = np.asarray([\n",
    "            np.sum(\n",
    "                segment.w * segment.purchase_probabilities(price)\n",
    "                for segment in self.segments\n",
    "            )[0]\n",
    "            for price in observed_prices\n",
    "        ])\n",
    "        \n",
    "        # True means buy, False means not buy\n",
    "        observed_choices = np.random.uniform(size=k) < purchase_probabilities\n",
    "        \n",
    "        return observed_prices[:, 0], observed_choices\n",
    "     \n",
    "    \n",
    "def likelihood(parameters, observed_choices, prices):\n",
    "    \n",
    "    a, b = parameters\n",
    "    \n",
    "    # products purchased\n",
    "    utilities = a - b * prices\n",
    "    log_purchase_prob = utilities - np.log(1 + np.exp(utilities))\n",
    "    log_no_purchase_prob = - np.log(1 + np.exp(utilities))\n",
    "    n = len(observed_choices)\n",
    "    return - 1 / n * (\n",
    "        np.sum(log_purchase_prob[observed_choices]) + \n",
    "        np.sum(log_no_purchase_prob[~observed_choices])\n",
    "    )"
   ]
  },
  {
   "cell_type": "markdown",
   "metadata": {},
   "source": [
    "### Generate data"
   ]
  },
  {
   "cell_type": "code",
   "execution_count": 66,
   "metadata": {},
   "outputs": [],
   "source": [
    "a = np.asarray([[1], [9]])\n",
    "b = np.asarray([0.1])\n",
    "w = np.asarray([0.825, 0.125])\n",
    "\n",
    "example = MisspecificationExample(a, b, w)\n",
    "price_range = (1, 120)\n",
    "n_choices = 1000\n",
    "observed_prices, observed_choices = example.simulate_choices(n_choices, price_range)"
   ]
  },
  {
   "cell_type": "markdown",
   "metadata": {},
   "source": [
    "### Estimate misspecified model"
   ]
  },
  {
   "cell_type": "code",
   "execution_count": 82,
   "metadata": {},
   "outputs": [],
   "source": [
    "def revenue_misspecified(a, b, p):\n",
    "    return np.sum(p * np.exp(a - b * p) / (1 + np.exp(a - b * p)))\n",
    "\n",
    "price_grid = np.linspace(*price_range, 1000)\n",
    "\n",
    "with warnings.catch_warnings():\n",
    "    warnings.filterwarnings(\"ignore\", message=\"overflow encountered in exp\") \n",
    "    start_parameters = np.random.uniform(0, 1, size=2)\n",
    "    revenue_realizations = pd.DataFrame({'price': [], 'revenue': []})\n",
    "    parameter_estimates = pd.DataFrame({'a': [], 'b': []})\n",
    "    bootstrap_size = 100\n",
    "    for _ in range(100):\n",
    "        # bootstrap\n",
    "        bootstrap_sample = np.random.choice(range(n_choices), size=bootstrap_size, replace=False)\n",
    "        args = (observed_choices[bootstrap_sample], observed_prices[bootstrap_sample])\n",
    "        min_problem = minimize(likelihood, start_parameters, args=args)\n",
    "        a, b = min_problem.x\n",
    "        parameter_estimates = parameter_estimates.append(\n",
    "            pd.DataFrame({'a': [a], 'b': [b]}),\n",
    "            ignore_index=True\n",
    "        )\n",
    "        revenue = [revenue_misspecified(a, b, p) for p in price_grid]\n",
    "        revenue_realizations = revenue_realizations.append(\n",
    "            pd.DataFrame({'price': price_grid, 'revenue': revenue}),\n",
    "            ignore_index=True\n",
    "        )\n",
    "        assert min_problem.success"
   ]
  },
  {
   "cell_type": "code",
   "execution_count": 87,
   "metadata": {},
   "outputs": [
    {
     "name": "stdout",
     "output_type": "stream",
     "text": [
      "parameter esimates:\n",
      " a    0.348483\n",
      "b    0.039610\n",
      "dtype: float64\n",
      "parameter standard errors:\n",
      " a    0.050900\n",
      "b    0.001186\n",
      "dtype: float64\n"
     ]
    }
   ],
   "source": [
    "print('parameter esimates:\\n', parameter_estimates.mean())\n",
    "print('parameter standard errors:\\n', parameter_estimates.sem())"
   ]
  },
  {
   "cell_type": "markdown",
   "metadata": {},
   "source": [
    "### Plot misspecified and true revenue function"
   ]
  },
  {
   "cell_type": "code",
   "execution_count": 88,
   "metadata": {},
   "outputs": [
    {
     "data": {
      "image/png": "[encoded data removed]",
      "text/plain": [
       "<Figure size 288x216 with 1 Axes>"
      ]
     },
     "metadata": {},
     "output_type": "display_data"
    }
   ],
   "source": [
    "_, ax = plt.subplots(figsize=(4, 3))\n",
    "\n",
    "true_rev = [example.revenue_true(p) for p in price_grid]\n",
    "ax.plot(price_grid, true_rev, label='True', linestyle='--')\n",
    "\n",
    "sns.lineplot(\n",
    "    x='price', \n",
    "    y='revenue',\n",
    "    data=wrong_revenue,\n",
    "    label='Misspecified',\n",
    "    ci=99,\n",
    "    ax=ax\n",
    ")\n",
    "\n",
    "opt = (\n",
    "    revenue_realizations\n",
    "    .groupby('price')['revenue']\n",
    "    .mean()\n",
    "    .sort_values(ascending=False)\n",
    "    .reset_index()\n",
    "    .iloc[0]\n",
    ")\n",
    "best_price_wrong = opt['price']\n",
    "best_rev_wrong = opt['revenue']\n",
    "best_rev_true = example.revenue_true(best_price_wrong)\n",
    "\n",
    "ax.scatter(best_price_wrong, best_rev_wrong, marker='x', color='b')\n",
    "ax.scatter(best_price_wrong, best_rev_true, marker='o', color='b')\n",
    "\n",
    "plt.legend()\n",
    "ax.legend(bbox_to_anchor=(1.1, 1.15))\n",
    "plt.ylabel(r'revenue')\n",
    "plt.xlabel(f'price')\n",
    "plt.tight_layout()\n",
    "plt.savefig('../figs/misspecification_example.pdf')\n",
    "plt.show()"
   ]
  },
  {
   "cell_type": "code",
   "execution_count": null,
   "metadata": {},
   "outputs": [],
   "source": []
  }
 ],
 "metadata": {
  "kernelspec": {
   "display_name": "Python 3",
   "language": "python",
   "name": "python3"
  },
  "language_info": {
   "codemirror_mode": {
    "name": "ipython",
    "version": 3
   },
   "file_extension": ".py",
   "mimetype": "text/x-python",
   "name": "python",
   "nbconvert_exporter": "python",
   "pygments_lexer": "ipython3",
   "version": "3.6.8"
  }
 },
 "nbformat": 4,
 "nbformat_minor": 2
}
