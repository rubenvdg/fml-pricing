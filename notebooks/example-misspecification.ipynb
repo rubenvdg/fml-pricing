{
 "cells": [
  {
   "cell_type": "code",
   "execution_count": 71,
   "metadata": {},
   "outputs": [],
   "source": [
    "import numpy as np\n",
    "from bnb.problem import OptimizationProblem\n",
    "from matplotlib import pyplot as plt\n",
    "import matplotlib\n",
    "from scipy.optimize import minimize\n",
    "import warnings\n",
    "import seaborn as sns\n",
    "sns.set()\n",
    "\n",
    "matplotlib.rcParams.update({'font.size': 11, 'font.family': 'serif'})"
   ]
  },
  {
   "cell_type": "code",
   "execution_count": 94,
   "metadata": {},
   "outputs": [],
   "source": [
    "class MisspecificationExample(OptimizationProblem):\n",
    "    \n",
    "    def revenue_true(self, p):\n",
    "        return np.sum([\n",
    "            segment.w * np.sum(p * segment.purchase_probabilities(p))\n",
    "            for segment in self.segments\n",
    "        ])\n",
    "    \n",
    "    def simulate_choices(self, k, price_range, seed=0):\n",
    "        np.random.seed(seed)\n",
    "        observed_prices = np.random.uniform(*price_range, size=(k, 1))    \n",
    "        purchase_probabilities = np.asarray([\n",
    "            np.sum(\n",
    "                segment.w * segment.purchase_probabilities(price)\n",
    "                for segment in self.segments\n",
    "            )[0]\n",
    "            for price in observed_prices\n",
    "        ])\n",
    "        \n",
    "        # True means buy, False means not buy\n",
    "        observed_choices = np.random.uniform(size=k) < purchase_probabilities\n",
    "        \n",
    "        return observed_prices[:, 0], observed_choices\n",
    "    \n",
    "\n",
    "def likelihood(parameters, observed_choices, prices):\n",
    "    \n",
    "    a, b = parameters\n",
    "    \n",
    "    # products purchased\n",
    "    utilities = a - b * prices\n",
    "    log_purchase_prob = utilities - np.log(1 + np.exp(utilities))\n",
    "    log_no_purchase_prob = - np.log(1 + np.exp(utilities))\n",
    "    n = len(observed_choices)\n",
    "    return - 1 / n * (\n",
    "        np.sum(log_purchase_prob[observed_choices]) + \n",
    "        np.sum(log_no_purchase_prob[~observed_choices])\n",
    "    )\n",
    "\n",
    "# likelihood(parameters, observed_choices, observed_prices)\n",
    "# observed_choices\n",
    "# print(min_problem)"
   ]
  },
  {
   "cell_type": "code",
   "execution_count": 132,
   "metadata": {},
   "outputs": [
    {
     "data": {
      "image/png": "[encoded data removed]",
      "text/plain": [
       "<Figure size 288x216 with 1 Axes>"
      ]
     },
     "metadata": {},
     "output_type": "display_data"
    }
   ],
   "source": [
    "a = np.asarray([[1], [9]])\n",
    "b = np.asarray([0.1])\n",
    "w = np.asarray([0.825, 0.125])\n",
    "\n",
    "# a = np.asarray([[0.5], [4]])\n",
    "# b = np.asarray([0.1])\n",
    "# w = np.asarray([0.5, 0.5])\n",
    "\n",
    "example = MisspecificationExample(a, b, w)\n",
    "price_range = (1, 120)\n",
    "\n",
    "observed_prices, observed_choices = example.simulate_choices(5000, price_range)\n",
    "\n",
    "# estimate a misspecified logit model\n",
    "start_parameters = np.random.uniform(0, 1, size=2)\n",
    "args = (observed_choices, observed_prices)\n",
    "min_problem = minimize(likelihood, start_parameters, args=args)\n",
    "\n",
    "def revenue_misspecified(a, b, p):\n",
    "    return np.sum(p * np.exp(a - b * p) / (1 + np.exp(a - b * p)))\n",
    "\n",
    "with warnings.catch_warnings():\n",
    "    warnings.filterwarnings(\"ignore\", message=\"overflow encountered in exp\") \n",
    "    a, b = min_problem.x\n",
    "assert min_problem.success\n",
    "\n",
    "\n",
    "_, ax = plt.subplots(figsize=(4, 3))\n",
    "\n",
    "price_grid = np.linspace(*price_range, 1000)\n",
    "true_rev = [example.revenue_true(p) for p in price_grid]\n",
    "ax.plot(price_grid, true_rev, label='True', linestyle='--')\n",
    "\n",
    "wrong_rev = [revenue_misspecified(a, b, p) for p in price_grid]\n",
    "ax.plot(price_grid, wrong_rev, label='Misspecified')\n",
    "\n",
    "opt_price_idx = np.argmax(wrong_rev)\n",
    "best_price_wrong = price_grid[opt_price_idx]\n",
    "best_rev_wrong = wrong_rev[opt_price_idx]\n",
    "best_rev_true = true_rev[opt_price_idx]\n",
    "ax.scatter(best_price_wrong, best_rev_wrong, marker='x', color='b')\n",
    "ax.scatter(best_price_wrong, best_rev_true, marker='o', color='b')\n",
    "\n",
    "plt.legend()\n",
    "ax.legend(bbox_to_anchor=(1.1, 1.15))\n",
    "plt.ylabel(r'revenue')\n",
    "plt.xlabel(f'price')\n",
    "plt.tight_layout()\n",
    "plt.savefig('../figs/misspecification_example.pdf')\n",
    "plt.show()\n",
    "\n"
   ]
  },
  {
   "cell_type": "code",
   "execution_count": 133,
   "metadata": {},
   "outputs": [
    {
     "data": {
      "text/plain": [
       "6.526092842497931"
      ]
     },
     "execution_count": 133,
     "metadata": {},
     "output_type": "execute_result"
    }
   ],
   "source": [
    "best_rev_true"
   ]
  },
  {
   "cell_type": "code",
   "execution_count": 125,
   "metadata": {},
   "outputs": [
    {
     "data": {
      "text/plain": [
       "37"
      ]
     },
     "execution_count": 125,
     "metadata": {},
     "output_type": "execute_result"
    }
   ],
   "source": []
  },
  {
   "cell_type": "code",
   "execution_count": 123,
   "metadata": {},
   "outputs": [
    {
     "data": {
      "text/plain": [
       "(0.2738860597858031, 0.036588286220606704)"
      ]
     },
     "execution_count": 123,
     "metadata": {},
     "output_type": "execute_result"
    }
   ],
   "source": [
    "a, b"
   ]
  },
  {
   "cell_type": "code",
   "execution_count": null,
   "metadata": {},
   "outputs": [],
   "source": []
  },
  {
   "cell_type": "code",
   "execution_count": null,
   "metadata": {},
   "outputs": [],
   "source": []
  }
 ],
 "metadata": {
  "kernelspec": {
   "display_name": "Python 3",
   "language": "python",
   "name": "python3"
  },
  "language_info": {
   "codemirror_mode": {
    "name": "ipython",
    "version": 3
   },
   "file_extension": ".py",
   "mimetype": "text/x-python",
   "name": "python",
   "nbconvert_exporter": "python",
   "pygments_lexer": "ipython3",
   "version": "3.6.8"
  }
 },
 "nbformat": 4,
 "nbformat_minor": 2
}
