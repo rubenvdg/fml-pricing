{
 "cells": [
  {
   "cell_type": "code",
   "execution_count": 1,
   "metadata": {},
   "outputs": [],
   "source": [
    "%load_ext autoreload\n",
    "%autoreload 2"
   ]
  },
  {
   "cell_type": "code",
   "execution_count": 8,
   "metadata": {},
   "outputs": [],
   "source": [
    "import numpy as np\n",
    "from bnb.problem import OptimizationProblem\n",
    "from scipy.optimize import minimize\n",
    "from bnb.fml_solver import FMLSolver\n",
    "from bnb.gradient_descent import GradientDescent\n",
    "import matplotlib.pyplot as plt\n",
    "import seaborn as sns\n",
    "import matplotlib\n",
    "sns.set()\n",
    "matplotlib.rcParams.update({'font.size': 11, 'font.family': 'serif'})"
   ]
  },
  {
   "cell_type": "markdown",
   "metadata": {},
   "source": [
    "### Solve with FML when true demand has segement-specific price sensitivity"
   ]
  },
  {
   "cell_type": "code",
   "execution_count": 3,
   "metadata": {},
   "outputs": [],
   "source": [
    "seed = 1\n",
    "n, m = 50, 2\n",
    "a_range = (-7, 7)\n",
    "b_range = (0.001, 0.01)\n",
    "np.random.seed(seed)\n",
    "\n",
    "def segment_purchase_probabiliy(p, a, b):\n",
    "    utilities = a - b * p\n",
    "    return np.exp(utilities) / (1 + np.sum(np.exp(utilities)))\n",
    "\n",
    "def revenue_segment_specific_price_sensitivity(p, w, a, b):\n",
    "    return - np.sum([\n",
    "        w[c] *\n",
    "        np.sum(p * segment_purchase_probabiliy(p, a[c], b[c]))\n",
    "        for c in range(m)\n",
    "    ])\n",
    "\n",
    "results = []\n",
    "\n",
    "for _ in range(50):\n",
    " \n",
    "    w = np.random.uniform(0, 1, size=m)\n",
    "    w /= np.sum(w)\n",
    "    a = [np.random.uniform(*a_range, size=n) for _ in range(m)]\n",
    "    b = np.random.uniform(*b_range, size=n)\n",
    "    problem = OptimizationProblem(a, b, w)\n",
    "\n",
    "    # solve with gradient descent\n",
    "    gd = GradientDescent(a, b, w)\n",
    "    gd_sol = gd.solve()\n",
    "\n",
    "    # solve with our solver\n",
    "    solver = FMLSolver(problem, objective_lb=gd_sol, multiprocess=True, epsilon=0.01)\n",
    "    solver.solve()\n",
    "    \n",
    "    i_max = np.argmax([cube.objective_lb for cube in solver.cubes])\n",
    "    cube = solver.cubes[i_max]\n",
    "    theta = solver._minimize_dual_lipschitz_bound(cube, cube.center).x\n",
    "    z_opt = cube.z_opt\n",
    "    p_opt_fml = - np.log(cube.z_opt) / problem.b\n",
    "        \n",
    "    for delta in np.linspace(0.0, 0.5, 10):\n",
    "\n",
    "        b_perturbed = [b * (1 - delta), b * (1 + delta)]\n",
    "        args = (w, a, b_perturbed)\n",
    "        max_ = -np.inf\n",
    "\n",
    "        for _ in range(5):\n",
    "\n",
    "            p_start = np.random.uniform(problem.p_lb, problem.p_ub)\n",
    "            with np.errstate(all=\"ignore\"):\n",
    "                opt = minimize(\n",
    "                    revenue_segment_specific_price_sensitivity,\n",
    "                    p_start,\n",
    "                    args=args,\n",
    "                    options={\"gtol\": 1e-03},\n",
    "                )\n",
    "            if -opt.fun > max_:\n",
    "                max_ = -opt.fun\n",
    "\n",
    "        true_rev = max_\n",
    "        fml_rev = - revenue_segment_specific_price_sensitivity(p_opt_fml, *args)\n",
    "        results.append({\"delta\": delta, \"true_rev\": true_rev, \"fml_rev\": fml_rev})"
   ]
  },
  {
   "cell_type": "markdown",
   "metadata": {},
   "source": [
    "### Visualize results"
   ]
  },
  {
   "cell_type": "code",
   "execution_count": 4,
   "metadata": {},
   "outputs": [],
   "source": [
    "import pandas as pd\n",
    "df = (\n",
    "    pd.DataFrame.from_records(results)\n",
    "    .assign(opt_gap=lambda df: 100 * (1 - df[\"fml_rev\"] / df[\"true_rev\"]))\n",
    ")"
   ]
  },
  {
   "cell_type": "code",
   "execution_count": 16,
   "metadata": {},
   "outputs": [
    {
     "data": {
      "image/png": "[encoded data removed]",
      "text/plain": [
       "<Figure size 432x288 with 1 Axes>"
      ]
     },
     "metadata": {},
     "output_type": "display_data"
    }
   ],
   "source": [
    "fig, ax = plt.subplots(figsize=(6, 4))\n",
    "sns.lineplot(data=df, x=\"delta\", y=\"opt_gap\", ci=95, ax=ax)\n",
    "ax.set_xlabel(r\"$\\delta$\", size=14)\n",
    "ax.set_ylabel(\"Optimality \\n gap (%)\", size=14, rotation=0, labelpad=40)\n",
    "plt.tight_layout()\n",
    "plt.savefig(\"segment-specific-price-sensitivities.pdf\")\n",
    "plt.show()"
   ]
  }
 ],
 "metadata": {
  "kernelspec": {
   "display_name": "Python 3",
   "language": "python",
   "name": "python3"
  },
  "language_info": {
   "codemirror_mode": {
    "name": "ipython",
    "version": 3
   },
   "file_extension": ".py",
   "mimetype": "text/x-python",
   "name": "python",
   "nbconvert_exporter": "python",
   "pygments_lexer": "ipython3",
   "version": "3.6.8"
  }
 },
 "nbformat": 4,
 "nbformat_minor": 2
}
