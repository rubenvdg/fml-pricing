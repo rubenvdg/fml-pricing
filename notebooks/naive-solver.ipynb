{
 "cells": [
  {
   "cell_type": "code",
   "execution_count": 1,
   "metadata": {},
   "outputs": [],
   "source": [
    "%load_ext autoreload\n",
    "%autoreload 2"
   ]
  },
  {
   "cell_type": "code",
   "execution_count": 2,
   "metadata": {},
   "outputs": [],
   "source": [
    "import numpy as np\n",
    "import logging\n",
    "from bnb.problem import Problem\n",
    "from bnb.naivesolver import NaiveSolver\n",
    "from bnb.fml_solver import FMLSolver\n",
    "import math\n",
    "\n",
    "# logging.basicConfig(\n",
    "#     format='[%(funcName)s:%(lineno)d] - %(message)s',\n",
    "#     level=logging.INFO\n",
    "# )\n"
   ]
  },
  {
   "cell_type": "code",
   "execution_count": 6,
   "metadata": {},
   "outputs": [
    {
     "name": "stdout",
     "output_type": "stream",
     "text": [
      "n:  3\n"
     ]
    }
   ],
   "source": [
    "simulations = 1\n",
    "m = 2\n",
    "a_range = (-4.0, 4.0)\n",
    "b_range = (0.001, 0.01)\n",
    "seed = 0\n",
    "results = []\n",
    "n_range = [3]\n",
    "\n",
    "for n in n_range:\n",
    "    print('n: ', n)\n",
    "    for _ in range(simulations):\n",
    "        seed += 100\n",
    "        problem = Problem(n, m, a_range, b_range, seed)\n",
    "\n",
    "        fml_solver = FMLSolver(problem, multiprocess=True)\n",
    "        fml_solver.solve()\n",
    "\n",
    "#         results.append({\n",
    "#             'n': n,\n",
    "#             'm': m,\n",
    "#             'cpu_time': solver.timer,\n",
    "#             'iterations': solver.iter\n",
    "#         })\n",
    "        \n",
    "        naive_solver = NaiveSolver(problem, multiprocess=True)\n",
    "        naive_solver.solve()\n",
    "        rel_tol = naive_solver.epsilon * 2\n",
    "#         minimize(lambda x: - naive_solver.objective_function(x), np.asarray([1, 2, 3]))\n",
    "        assert math.isclose(naive_solver.objective_lb, fml_solver.objective_lb, rel_tol=rel_tol)\n",
    "                    \n"
   ]
  },
  {
   "cell_type": "code",
   "execution_count": 7,
   "metadata": {},
   "outputs": [
    {
     "data": {
      "text/plain": [
       "1366.3897224747752"
      ]
     },
     "execution_count": 7,
     "metadata": {},
     "output_type": "execute_result"
    }
   ],
   "source": [
    "fml_solver.objective_lb\n"
   ]
  },
  {
   "cell_type": "code",
   "execution_count": 8,
   "metadata": {},
   "outputs": [
    {
     "data": {
      "text/plain": [
       "1366.380311477775"
      ]
     },
     "execution_count": 8,
     "metadata": {},
     "output_type": "execute_result"
    }
   ],
   "source": [
    "naive_solver.objective_lb"
   ]
  },
  {
   "cell_type": "code",
   "execution_count": 9,
   "metadata": {},
   "outputs": [
    {
     "data": {
      "text/plain": [
       "2.685763216456964"
      ]
     },
     "execution_count": 9,
     "metadata": {},
     "output_type": "execute_result"
    }
   ],
   "source": [
    "naive_solver.objective_function(np.asarray([1, 2, 3]))"
   ]
  },
  {
   "cell_type": "code",
   "execution_count": 11,
   "metadata": {},
   "outputs": [],
   "source": [
    "from scipy.optimize import minimize\n",
    "\n",
    "\n",
    "\n",
    "def f(x):\n",
    "    return - naive_solver.objective_function(x)"
   ]
  },
  {
   "cell_type": "code",
   "execution_count": 14,
   "metadata": {},
   "outputs": [
    {
     "data": {
      "text/plain": [
       "      fun: -1366.3899147818652\n",
       " hess_inv: array([[ 5462753.99075588,  5023585.82640585, -5462927.01741389],\n",
       "       [ 5023585.82640585,  4619870.82656788, -5023034.54908931],\n",
       "       [-5462927.01741389, -5023034.54908931,  5466586.80512167]])\n",
       "      jac: array([0., 0., 0.])\n",
       "  message: 'Optimization terminated successfully.'\n",
       "     nfev: 230\n",
       "      nit: 23\n",
       "     njev: 46\n",
       "   status: 0\n",
       "  success: True\n",
       "        x: array([1643.2019129 , 2323.42430638, 2339.55286934])"
      ]
     },
     "execution_count": 14,
     "metadata": {},
     "output_type": "execute_result"
    }
   ],
   "source": [
    "\n"
   ]
  }
 ],
 "metadata": {
  "kernelspec": {
   "display_name": "Python 3",
   "language": "python",
   "name": "python3"
  },
  "language_info": {
   "codemirror_mode": {
    "name": "ipython",
    "version": 3
   },
   "file_extension": ".py",
   "mimetype": "text/x-python",
   "name": "python",
   "nbconvert_exporter": "python",
   "pygments_lexer": "ipython3",
   "version": "3.6.8"
  }
 },
 "nbformat": 4,
 "nbformat_minor": 2
}
