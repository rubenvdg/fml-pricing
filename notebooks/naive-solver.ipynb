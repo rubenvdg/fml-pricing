{
 "cells": [
  {
   "cell_type": "code",
   "execution_count": 1,
   "metadata": {},
   "outputs": [],
   "source": [
    "%load_ext autoreload\n",
    "%autoreload 2"
   ]
  },
  {
   "cell_type": "code",
   "execution_count": 4,
   "metadata": {},
   "outputs": [],
   "source": [
    "import numpy as np\n",
    "from bnb.problem import Problem"
   ]
  },
  {
   "cell_type": "code",
   "execution_count": 188,
   "metadata": {},
   "outputs": [],
   "source": [
    "m = 2\n",
    "n = 1\n",
    "max_iter = np.inf\n",
    "a_range = (-4.0, 4.0)\n",
    "b_range = (0.001, 0.01)\n",
    "epsilon = 0.01\n",
    "seed = 1\n",
    "\n",
    "problem = Problem(n, m, a_range, b_range, seed)\n",
    "p = np.random.uniform(0, 1, size=n)"
   ]
  },
  {
   "cell_type": "code",
   "execution_count": 189,
   "metadata": {},
   "outputs": [
    {
     "data": {
      "text/plain": [
       "0.3958580130333753"
      ]
     },
     "execution_count": 189,
     "metadata": {},
     "output_type": "execute_result"
    }
   ],
   "source": [
    "problem.revenue(p)"
   ]
  },
  {
   "cell_type": "code",
   "execution_count": 190,
   "metadata": {},
   "outputs": [
    {
     "data": {
      "text/plain": [
       "array([0.01558738, 0.51937663, 0.06307975, 0.11855489, 0.21335298])"
      ]
     },
     "execution_count": 190,
     "metadata": {},
     "output_type": "execute_result"
    }
   ],
   "source": [
    "problem.gradient(p)"
   ]
  },
  {
   "cell_type": "code",
   "execution_count": 195,
   "metadata": {},
   "outputs": [],
   "source": [
    "der = nd.Gradient(problem.revenue)"
   ]
  },
  {
   "cell_type": "code",
   "execution_count": 197,
   "metadata": {},
   "outputs": [
    {
     "data": {
      "text/plain": [
       "array([0.01558738, 0.51937663, 0.06307975, 0.11855489, 0.21335298])"
      ]
     },
     "execution_count": 197,
     "metadata": {},
     "output_type": "execute_result"
    }
   ],
   "source": [
    "der(p)"
   ]
  },
  {
   "cell_type": "code",
   "execution_count": 180,
   "metadata": {},
   "outputs": [
    {
     "data": {
      "text/plain": [
       "(2, 29)"
      ]
     },
     "execution_count": 180,
     "metadata": {},
     "output_type": "execute_result"
    }
   ],
   "source": [
    "problem.B.shape"
   ]
  },
  {
   "cell_type": "code",
   "execution_count": 181,
   "metadata": {},
   "outputs": [
    {
     "data": {
      "text/plain": [
       "(29,)"
      ]
     },
     "execution_count": 181,
     "metadata": {},
     "output_type": "execute_result"
    }
   ],
   "source": [
    "p.shape"
   ]
  },
  {
   "cell_type": "code",
   "execution_count": 182,
   "metadata": {},
   "outputs": [
    {
     "data": {
      "text/plain": [
       "(1, 29)"
      ]
     },
     "execution_count": 182,
     "metadata": {},
     "output_type": "execute_result"
    }
   ],
   "source": [
    "p_.shape"
   ]
  },
  {
   "cell_type": "code",
   "execution_count": 184,
   "metadata": {},
   "outputs": [
    {
     "name": "stdout",
     "output_type": "stream",
     "text": [
      "27.3 µs ± 2.57 µs per loop (mean ± std. dev. of 7 runs, 10000 loops each)\n"
     ]
    }
   ],
   "source": [
    "%%timeit\n",
    "\n",
    "w_ = np.expand_dims(problem.w, axis=1)\n",
    "p_ = np.expand_dims(p, axis=0)\n",
    "b_ = np.expand_dims(problem.b, axis=0)\n",
    "\n",
    "expU = np.exp(problem.A - problem.B * p_)\n",
    "prob = expU / (1 + expU.sum(axis=1, keepdims=True))\n",
    "\n",
    "grad = np.sum(\n",
    "    (\n",
    "        prob *\n",
    "        w_ *\n",
    "        (1 - p_ * b_ + b_ * np.sum(prob * p_, axis=1, keepdims=True))\n",
    "    ),\n",
    "    axis=0\n",
    ")"
   ]
  },
  {
   "cell_type": "code",
   "execution_count": 185,
   "metadata": {},
   "outputs": [],
   "source": [
    "import numdifftools as nd"
   ]
  },
  {
   "cell_type": "code",
   "execution_count": 166,
   "metadata": {},
   "outputs": [
    {
     "data": {
      "text/plain": [
       "(1, 29)"
      ]
     },
     "execution_count": 166,
     "metadata": {},
     "output_type": "execute_result"
    }
   ],
   "source": [
    "p_.shape"
   ]
  },
  {
   "cell_type": "code",
   "execution_count": 171,
   "metadata": {},
   "outputs": [
    {
     "data": {
      "text/plain": [
       "array([[0.34780059],\n",
       "       [0.61486143]])"
      ]
     },
     "execution_count": 171,
     "metadata": {},
     "output_type": "execute_result"
    }
   ],
   "source": [
    "np.sum(prob * p_, axis=1, keepdims=True)"
   ]
  },
  {
   "cell_type": "code",
   "execution_count": 167,
   "metadata": {},
   "outputs": [
    {
     "data": {
      "text/plain": [
       "(2, 1)"
      ]
     },
     "execution_count": 167,
     "metadata": {},
     "output_type": "execute_result"
    }
   ],
   "source": [
    "w_.shape"
   ]
  },
  {
   "cell_type": "code",
   "execution_count": 175,
   "metadata": {},
   "outputs": [],
   "source": [
    "grad = np.sum(\n",
    "    (\n",
    "        prob *\n",
    "        w_ *\n",
    "        (1 - p_ * b_ + b_ * np.sum(prob * p_, axis=1, keepdims=True))\n",
    "    ),\n",
    "    axis=0\n",
    ")"
   ]
  },
  {
   "cell_type": "code",
   "execution_count": 176,
   "metadata": {},
   "outputs": [
    {
     "data": {
      "text/plain": [
       "(29,)"
      ]
     },
     "execution_count": 176,
     "metadata": {},
     "output_type": "execute_result"
    }
   ],
   "source": [
    "grad.shape"
   ]
  },
  {
   "cell_type": "code",
   "execution_count": null,
   "metadata": {},
   "outputs": [],
   "source": []
  },
  {
   "cell_type": "code",
   "execution_count": 163,
   "metadata": {},
   "outputs": [
    {
     "data": {
      "text/plain": [
       "((1, 29), (1, 29))"
      ]
     },
     "execution_count": 163,
     "metadata": {},
     "output_type": "execute_result"
    }
   ],
   "source": [
    "p_.shape, b_.shape"
   ]
  },
  {
   "cell_type": "code",
   "execution_count": 145,
   "metadata": {},
   "outputs": [
    {
     "data": {
      "text/plain": [
       "(2, 29)"
      ]
     },
     "execution_count": 145,
     "metadata": {},
     "output_type": "execute_result"
    }
   ],
   "source": [
    "(prob * p_).shape"
   ]
  },
  {
   "cell_type": "code",
   "execution_count": 137,
   "metadata": {},
   "outputs": [
    {
     "data": {
      "text/plain": [
       "(2, 29)"
      ]
     },
     "execution_count": 137,
     "metadata": {},
     "output_type": "execute_result"
    }
   ],
   "source": [
    "prob.shape"
   ]
  },
  {
   "cell_type": "code",
   "execution_count": 139,
   "metadata": {},
   "outputs": [
    {
     "data": {
      "text/plain": [
       "(29, 1)"
      ]
     },
     "execution_count": 139,
     "metadata": {},
     "output_type": "execute_result"
    }
   ],
   "source": [
    "p_.shape"
   ]
  },
  {
   "cell_type": "code",
   "execution_count": 117,
   "metadata": {},
   "outputs": [
    {
     "data": {
      "text/plain": [
       "(29,)"
      ]
     },
     "execution_count": 117,
     "metadata": {},
     "output_type": "execute_result"
    }
   ],
   "source": [
    "grad.shape"
   ]
  },
  {
   "cell_type": "code",
   "execution_count": 86,
   "metadata": {},
   "outputs": [
    {
     "data": {
      "text/plain": [
       "(2, 29)"
      ]
     },
     "execution_count": 86,
     "metadata": {},
     "output_type": "execute_result"
    }
   ],
   "source": [
    "prob.shape"
   ]
  },
  {
   "cell_type": "code",
   "execution_count": 7,
   "metadata": {},
   "outputs": [],
   "source": [
    "A = np.asarray([segment.a for segment in problem.segments])\n",
    "B = np.asarray([segment.b for segment in problem.segments])"
   ]
  },
  {
   "cell_type": "code",
   "execution_count": 53,
   "metadata": {},
   "outputs": [
    {
     "data": {
      "text/plain": [
       "0.035479415207377435"
      ]
     },
     "execution_count": 53,
     "metadata": {},
     "output_type": "execute_result"
    }
   ],
   "source": [
    "problem.revenue(np.asarray([2.0]))"
   ]
  },
  {
   "cell_type": "code",
   "execution_count": 73,
   "metadata": {},
   "outputs": [],
   "source": [
    "a0, b0, p = problem.segments[0].a, problem.segments[0].b, np.asarray([2.0])\n",
    "a1, b1, p = problem.segments[1].a, problem.segments[1].b, np.asarray([2.0])"
   ]
  },
  {
   "cell_type": "code",
   "execution_count": 74,
   "metadata": {},
   "outputs": [
    {
     "data": {
      "text/plain": [
       "array([0.12490185])"
      ]
     },
     "execution_count": 74,
     "metadata": {},
     "output_type": "execute_result"
    }
   ],
   "source": [
    "problem.w[0] * p * np.exp(a0 - b0 * p) / (1 + np.exp(a0 - b0 * p))\n",
    "problem.w[1] * p * np.exp(a1 - b1 * p) / (1 + np.exp(a1 - b1 * p))"
   ]
  },
  {
   "cell_type": "code",
   "execution_count": 75,
   "metadata": {},
   "outputs": [
    {
     "data": {
      "text/plain": [
       "array([0.07072116])"
      ]
     },
     "execution_count": 75,
     "metadata": {},
     "output_type": "execute_result"
    }
   ],
   "source": []
  },
  {
   "cell_type": "code",
   "execution_count": 76,
   "metadata": {},
   "outputs": [
    {
     "data": {
      "text/plain": [
       "0.19562301442142915"
      ]
     },
     "execution_count": 76,
     "metadata": {},
     "output_type": "execute_result"
    }
   ],
   "source": [
    "problem.revenue(p)"
   ]
  },
  {
   "cell_type": "code",
   "execution_count": 69,
   "metadata": {},
   "outputs": [
    {
     "data": {
      "text/plain": [
       "0.36666223123984704"
      ]
     },
     "execution_count": 69,
     "metadata": {},
     "output_type": "execute_result"
    }
   ],
   "source": [
    "problem.w[0]"
   ]
  },
  {
   "cell_type": "code",
   "execution_count": 51,
   "metadata": {},
   "outputs": [
    {
     "name": "stdout",
     "output_type": "stream",
     "text": [
      "[0.60632946 0.56885144]\n",
      "[0.31736241 0.98861615]\n",
      "[0.57974522 0.38014117]\n",
      "[0.55094822 0.74533443]\n",
      "[0.66923289 0.26491956]\n",
      "[0.06633483 0.3700842 ]\n",
      "[0.62971751 0.21017401]\n",
      "[0.75275555 0.06653648]\n",
      "[0.2603151  0.80475456]\n",
      "[0.19343428 0.63946088]\n"
     ]
    }
   ],
   "source": [
    "_ = np.random.uniform(0, 1, size=(10, 2))\n",
    "\n",
    "for __ in _:\n",
    "    print(__)"
   ]
  },
  {
   "cell_type": "code",
   "execution_count": 48,
   "metadata": {},
   "outputs": [
    {
     "name": "stdout",
     "output_type": "stream",
     "text": [
      "15.6 µs ± 27.1 ns per loop (mean ± std. dev. of 7 runs, 100000 loops each)\n"
     ]
    }
   ],
   "source": [
    "%%timeit\n",
    "expU = np.exp(self.A - self.B * p)\n",
    "prob = expU / (1 + expU.sum(axis=1, keepdims=True))\n",
    "rev = np.sum(np.sum(prob * p, axis=1) * self.w)"
   ]
  },
  {
   "cell_type": "code",
   "execution_count": 42,
   "metadata": {},
   "outputs": [
    {
     "data": {
      "text/plain": [
       "5.979113639076783"
      ]
     },
     "execution_count": 42,
     "metadata": {},
     "output_type": "execute_result"
    }
   ],
   "source": [
    "rev"
   ]
  },
  {
   "cell_type": "code",
   "execution_count": 26,
   "metadata": {},
   "outputs": [
    {
     "data": {
      "text/plain": [
       "(3, 1)"
      ]
     },
     "execution_count": 26,
     "metadata": {},
     "output_type": "execute_result"
    }
   ],
   "source": [
    "expU.sum(axis=1, keepdims=True).shape"
   ]
  },
  {
   "cell_type": "code",
   "execution_count": 21,
   "metadata": {},
   "outputs": [
    {
     "data": {
      "text/plain": [
       "array([[3.75451271e-04, 1.19634126e-03, 3.54593350e-02],\n",
       "       [1.07905741e-01, 7.25628465e-03, 2.89121407e-02],\n",
       "       [2.12691322e-04, 2.19891057e-04, 1.02711118e-01],\n",
       "       [2.83833952e-03, 1.43029193e-02, 1.29863074e-02],\n",
       "       [2.00746227e-01, 4.51996217e-04, 3.46960016e-02],\n",
       "       [6.75136547e-03, 1.56744407e-02, 1.39901567e-03],\n",
       "       [2.34314697e-02, 3.69769432e-02, 7.25166398e-04],\n",
       "       [1.20848207e-03, 3.25328475e-04, 1.13577957e-01],\n",
       "       [2.34157868e-02, 3.92362331e-03, 2.68127441e-03],\n",
       "       [7.57730895e-02, 3.65654466e-02, 1.94341686e-01],\n",
       "       [1.06350450e-04, 3.74071603e-03, 1.67830579e-02],\n",
       "       [3.95111634e-02, 2.16150797e-04, 1.27962756e-02],\n",
       "       [2.53013636e-01, 1.00030549e-02, 2.10279458e-04],\n",
       "       [3.75516738e-02, 2.83298068e-02, 1.70113601e-01],\n",
       "       [8.73595089e-04, 8.44510750e-03, 3.06720432e-03],\n",
       "       [5.32443697e-02, 2.73302735e-01, 8.91677219e-03],\n",
       "       [2.22534809e-04, 1.57544859e-02, 2.30890709e-03],\n",
       "       [3.49344652e-03, 1.97970993e-01, 5.85151839e-04],\n",
       "       [1.38958274e-01, 4.31008238e-04, 1.20615223e-01],\n",
       "       [1.02176816e-03, 4.40430256e-04, 8.69038281e-03],\n",
       "       [9.57302815e-04, 9.06002254e-02, 8.86804390e-05],\n",
       "       [2.56651847e-04, 3.23592862e-03, 1.14393092e-02],\n",
       "       [1.08544502e-04, 5.17093018e-04, 1.14773242e-03],\n",
       "       [2.21436538e-02, 2.39870679e-01, 5.95059470e-03],\n",
       "       [5.26684848e-04, 2.31894803e-03, 1.04953628e-01]])"
      ]
     },
     "execution_count": 21,
     "metadata": {},
     "output_type": "execute_result"
    }
   ],
   "source": [
    "prob"
   ]
  },
  {
   "cell_type": "code",
   "execution_count": 12,
   "metadata": {},
   "outputs": [
    {
     "data": {
      "text/plain": [
       "[[-1, -1, -1],\n",
       " [-1, -1, 1],\n",
       " [-1, 1, -1],\n",
       " [-1, 1, 1],\n",
       " [1, -1, -1],\n",
       " [1, -1, 1],\n",
       " [1, 1, -1],\n",
       " [1, 1, 1]]"
      ]
     },
     "execution_count": 12,
     "metadata": {},
     "output_type": "execute_result"
    }
   ],
   "source": [
    "from itertools import product\n",
    "\n"
   ]
  }
 ],
 "metadata": {
  "kernelspec": {
   "display_name": "Python 3",
   "language": "python",
   "name": "python3"
  },
  "language_info": {
   "codemirror_mode": {
    "name": "ipython",
    "version": 3
   },
   "file_extension": ".py",
   "mimetype": "text/x-python",
   "name": "python",
   "nbconvert_exporter": "python",
   "pygments_lexer": "ipython3",
   "version": "3.6.8"
  }
 },
 "nbformat": 4,
 "nbformat_minor": 2
}
