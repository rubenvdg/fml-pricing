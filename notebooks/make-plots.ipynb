{
 "cells": [
  {
   "cell_type": "code",
   "execution_count": null,
   "metadata": {},
   "outputs": [],
   "source": [
    "import numpy as np\n",
    "import matplotlib\n",
    "import pandas as pd\n",
    "from pathlib import Path\n",
    "import seaborn as sns\n",
    "sns.set()\n",
    "import matplotlib.pyplot as plt"
   ]
  },
  {
   "cell_type": "code",
   "execution_count": null,
   "metadata": {},
   "outputs": [],
   "source": [
    "# python -m cProfile -s time my_script.py > profile.text 2>&1"
   ]
  },
  {
   "cell_type": "markdown",
   "metadata": {},
   "source": [
    "Load the results of the last simulation run "
   ]
  },
  {
   "cell_type": "code",
   "execution_count": null,
   "metadata": {},
   "outputs": [],
   "source": [
    "sim_results_file = '_lastrun.csv'\n",
    "sim_results_path = Path('..', 'sim_results', sim_results_file)\n",
    "results = pd.read_csv(sim_results_path)\n",
    "results.head()"
   ]
  },
  {
   "cell_type": "code",
   "execution_count": null,
   "metadata": {},
   "outputs": [],
   "source": [
    "for x_variable, columns_variable in (('n', 'm'), ('m', 'n')):\n",
    "\n",
    "    columns = results[columns_variable].unique()\n",
    "    \n",
    "    _, axs = plt.subplots(\n",
    "        figsize=(len(columns) * 5, 6),\n",
    "        nrows=2,\n",
    "        ncols=len(columns),\n",
    "        sharex=True\n",
    "    )\n",
    "    \n",
    "    min_y_tick_iters = int(results['iterations'].min()) - 1\n",
    "    max_y_tick_iters = int(results['iterations'].max()) + 1\n",
    "    y_ticks_iters = np.arange(min_y_tick_iters, max_y_tick_iters)\n",
    "    x_ticks = results[x_variable].unique()\n",
    "\n",
    "    label_mapping = {'cputime': 'CPU time (s)', 'iterations': '# iterations'}\n",
    "\n",
    "    for i, (var_to_plot, label) in enumerate(label_mapping.items()):\n",
    "        for column, ax in zip(columns, axs[i]):\n",
    "            ax.set_xticks(x_ticks)\n",
    "            results_ = results[lambda df: df[columns_variable].eq(column)]\n",
    "\n",
    "            sns.lineplot(data=results_, x=x_variable, y=var_to_plot, ax=ax, ci=95)\n",
    "\n",
    "            if ax is axs[i][0]:\n",
    "                ax.set_ylabel(label)\n",
    "            else:\n",
    "                ax.set_ylabel('')\n",
    "            ax.set_title(f'{columns_variable} = {column}')\n",
    "\n",
    "            if var_to_plot == 'iterations':\n",
    "                ax.set_yticks(y_ticks_iters)\n",
    "                \n",
    "    plt.show()\n"
   ]
  }
 ],
 "metadata": {
  "kernelspec": {
   "display_name": "Python 3",
   "language": "python",
   "name": "python3"
  },
  "language_info": {
   "codemirror_mode": {
    "name": "ipython",
    "version": 3
   },
   "file_extension": ".py",
   "mimetype": "text/x-python",
   "name": "python",
   "nbconvert_exporter": "python",
   "pygments_lexer": "ipython3",
   "version": "3.6.8"
  }
 },
 "nbformat": 4,
 "nbformat_minor": 2
}
