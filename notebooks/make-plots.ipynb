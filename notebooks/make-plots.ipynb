{
 "cells": [
  {
   "cell_type": "code",
   "execution_count": 1,
   "metadata": {},
   "outputs": [],
   "source": [
    "import numpy as np\n",
    "import matplotlib\n",
    "import pandas as pd\n",
    "from pathlib import Path\n",
    "import seaborn as sns\n",
    "sns.set()\n",
    "import matplotlib.pyplot as plt"
   ]
  },
  {
   "cell_type": "code",
   "execution_count": 2,
   "metadata": {},
   "outputs": [],
   "source": [
    "# python -m cProfile -s time my_script.py > profile.text 2>&1"
   ]
  },
  {
   "cell_type": "markdown",
   "metadata": {},
   "source": [
    "Load the results of the last simulation run "
   ]
  },
  {
   "cell_type": "code",
   "execution_count": 11,
   "metadata": {},
   "outputs": [
    {
     "data": {
      "text/html": [
       "<div>\n",
       "<style scoped>\n",
       "    .dataframe tbody tr th:only-of-type {\n",
       "        vertical-align: middle;\n",
       "    }\n",
       "\n",
       "    .dataframe tbody tr th {\n",
       "        vertical-align: top;\n",
       "    }\n",
       "\n",
       "    .dataframe thead th {\n",
       "        text-align: right;\n",
       "    }\n",
       "</style>\n",
       "<table border=\"1\" class=\"dataframe\">\n",
       "  <thead>\n",
       "    <tr style=\"text-align: right;\">\n",
       "      <th></th>\n",
       "      <th>n</th>\n",
       "      <th>m</th>\n",
       "      <th>seed</th>\n",
       "      <th>cputime</th>\n",
       "      <th>iterations</th>\n",
       "      <th>solver</th>\n",
       "    </tr>\n",
       "  </thead>\n",
       "  <tbody>\n",
       "    <tr>\n",
       "      <th>0</th>\n",
       "      <td>10</td>\n",
       "      <td>3</td>\n",
       "      <td>1</td>\n",
       "      <td>2.358366</td>\n",
       "      <td>6</td>\n",
       "      <td>FMLSolver</td>\n",
       "    </tr>\n",
       "    <tr>\n",
       "      <th>1</th>\n",
       "      <td>10</td>\n",
       "      <td>3</td>\n",
       "      <td>2</td>\n",
       "      <td>0.506723</td>\n",
       "      <td>4</td>\n",
       "      <td>FMLSolver</td>\n",
       "    </tr>\n",
       "    <tr>\n",
       "      <th>2</th>\n",
       "      <td>10</td>\n",
       "      <td>3</td>\n",
       "      <td>3</td>\n",
       "      <td>1.588081</td>\n",
       "      <td>6</td>\n",
       "      <td>FMLSolver</td>\n",
       "    </tr>\n",
       "    <tr>\n",
       "      <th>3</th>\n",
       "      <td>10</td>\n",
       "      <td>3</td>\n",
       "      <td>4</td>\n",
       "      <td>1.362505</td>\n",
       "      <td>5</td>\n",
       "      <td>FMLSolver</td>\n",
       "    </tr>\n",
       "    <tr>\n",
       "      <th>4</th>\n",
       "      <td>10</td>\n",
       "      <td>3</td>\n",
       "      <td>5</td>\n",
       "      <td>2.133386</td>\n",
       "      <td>6</td>\n",
       "      <td>FMLSolver</td>\n",
       "    </tr>\n",
       "  </tbody>\n",
       "</table>\n",
       "</div>"
      ],
      "text/plain": [
       "    n  m  seed   cputime  iterations     solver\n",
       "0  10  3     1  2.358366           6  FMLSolver\n",
       "1  10  3     2  0.506723           4  FMLSolver\n",
       "2  10  3     3  1.588081           6  FMLSolver\n",
       "3  10  3     4  1.362505           5  FMLSolver\n",
       "4  10  3     5  2.133386           6  FMLSolver"
      ]
     },
     "execution_count": 11,
     "metadata": {},
     "output_type": "execute_result"
    }
   ],
   "source": [
    "sim_results_file = '_lastrun.csv'\n",
    "sim_results_path = Path('..', 'sim_results', sim_results_file)\n",
    "results = pd.read_csv(sim_results_path)\n",
    "results.head()"
   ]
  },
  {
   "cell_type": "code",
   "execution_count": 12,
   "metadata": {},
   "outputs": [
    {
     "data": {
      "image/png": "[encoded data removed]",
      "text/plain": [
       "<Figure size 648x288 with 6 Axes>"
      ]
     },
     "metadata": {
      "needs_background": "light"
     },
     "output_type": "display_data"
    },
    {
     "data": {
      "image/png": "[encoded data removed]",
      "text/plain": [
       "<Figure size 648x288 with 6 Axes>"
      ]
     },
     "metadata": {
      "needs_background": "light"
     },
     "output_type": "display_data"
    }
   ],
   "source": [
    "for x_variable, columns_variable in (('n', 'm'), ('m', 'n')):\n",
    "    \n",
    "#     columns = results[columns_variable].unique()\n",
    "    columns = [10, 30, 50] if columns_variable == 'n' else [2, 3, 4]\n",
    "    \n",
    "    _, axs = plt.subplots(\n",
    "        figsize=(len(columns) * 3, 4),\n",
    "        nrows=2,\n",
    "        ncols=len(columns),\n",
    "        sharex=True,\n",
    "    )\n",
    "    \n",
    "    min_y_tick_iters = int(results['iterations'].min()) - 1\n",
    "    max_y_tick_iters = int(results['iterations'].max()) + 1\n",
    "    y_ticks_iters = np.arange(min_y_tick_iters, max_y_tick_iters)\n",
    "    y_lim_cpu = results['cputime'].min(), results['cputime'].max()\n",
    "    x_ticks = results[x_variable].unique()\n",
    "\n",
    "    label_mapping = {'cputime': 'CPU time (s)', 'iterations': '# iterations'}\n",
    "\n",
    "    for i, (var_to_plot, label) in enumerate(label_mapping.items()):\n",
    "        for column, ax in zip(columns, axs[i]):\n",
    "            ax.set_xticks(x_ticks)\n",
    "            results_ = results[lambda df: df[columns_variable].eq(column)]\n",
    "            \n",
    "            if x_variable == 'm' and var_to_plot == 'cputime':\n",
    "                ax.set(yscale=\"log\")\n",
    "                ax.set_ylim(y_lim_cpu)\n",
    "                \n",
    "            sns.lineplot(data=results_, x=x_variable, y=var_to_plot, ax=ax, ci=95)\n",
    "\n",
    "            if ax is axs[i][0]:\n",
    "                ax.set_ylabel(label)\n",
    "            else:\n",
    "                ax.set_ylabel('')\n",
    "            ax.set_title(f'{columns_variable} = {column}')\n",
    "\n",
    "            if var_to_plot == 'iterations':\n",
    "                ax.set_yticks(y_ticks_iters)\n",
    "                \n",
    "    plt.tight_layout()\n",
    "    plt.savefig(f'../figs/runtime_in_{x_variable}.pdf')\n",
    "    plt.show()\n"
   ]
  },
  {
   "cell_type": "code",
   "execution_count": null,
   "metadata": {},
   "outputs": [],
   "source": []
  }
 ],
 "metadata": {
  "kernelspec": {
   "display_name": "Python 3",
   "language": "python",
   "name": "python3"
  },
  "language_info": {
   "codemirror_mode": {
    "name": "ipython",
    "version": 3
   },
   "file_extension": ".py",
   "mimetype": "text/x-python",
   "name": "python",
   "nbconvert_exporter": "python",
   "pygments_lexer": "ipython3",
   "version": "3.6.8"
  }
 },
 "nbformat": 4,
 "nbformat_minor": 2
}
