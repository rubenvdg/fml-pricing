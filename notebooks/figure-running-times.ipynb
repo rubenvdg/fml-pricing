{
 "cells": [
  {
   "cell_type": "code",
   "execution_count": null,
   "metadata": {},
   "outputs": [],
   "source": [
    "import numpy as np\n",
    "import matplotlib\n",
    "import pandas as pd\n",
    "from pathlib import Path\n",
    "import seaborn as sns\n",
    "sns.set()\n",
    "import matplotlib.pyplot as plt"
   ]
  },
  {
   "cell_type": "markdown",
   "metadata": {},
   "source": [
    "Load the results of the last simulation run "
   ]
  },
  {
   "cell_type": "code",
   "execution_count": null,
   "metadata": {},
   "outputs": [],
   "source": [
    "sim_results_file = '_lastrun.csv'\n",
    "sim_results_path = Path('..', 'sim_results', sim_results_file)\n",
    "results = pd.read_csv(sim_results_path, quotechar=\"'\")\n",
    "results.head()"
   ]
  },
  {
   "cell_type": "code",
   "execution_count": null,
   "metadata": {},
   "outputs": [],
   "source": [
    "for x_variable, columns_variable in (('n', 'm'), ('m', 'n')):\n",
    "    \n",
    "    columns = [10, 30, 50] if columns_variable == 'n' else [2, 3, 4]\n",
    "    \n",
    "    _, axs = plt.subplots(\n",
    "        figsize=(len(columns) * 3, 4),\n",
    "        nrows=2,\n",
    "        ncols=len(columns),\n",
    "        sharex=True,\n",
    "    )\n",
    "    \n",
    "    min_y_tick_iters = int(results['iterations'].min()) - 1\n",
    "    max_y_tick_iters = int(results['iterations'].max()) + 1\n",
    "    y_ticks_iters = np.arange(min_y_tick_iters, max_y_tick_iters)\n",
    "    y_lim_cpu = results['cputime'].min(), results['cputime'].max()\n",
    "    x_ticks = results[x_variable].unique()\n",
    "\n",
    "    label_mapping = {'cputime': 'CPU time (s)', 'iterations': '# iterations'}\n",
    "\n",
    "    for i, (var_to_plot, label) in enumerate(label_mapping.items()):\n",
    "        for column, ax in zip(columns, axs[i]):\n",
    "            ax.set_xticks(x_ticks)\n",
    "            results_ = results[lambda df: df[columns_variable].eq(column)]\n",
    "            \n",
    "            if x_variable == 'm' and var_to_plot == 'cputime':\n",
    "                ax.set(yscale=\"log\")\n",
    "                ax.set_ylim(y_lim_cpu)\n",
    "                \n",
    "            sns.lineplot(data=results_, x=x_variable, y=var_to_plot, ax=ax, ci=95)\n",
    "\n",
    "            if ax is axs[i][0]:\n",
    "                ax.set_ylabel(label)\n",
    "            else:\n",
    "                ax.set_ylabel('')\n",
    "            ax.set_title(f'{columns_variable} = {column}')\n",
    "\n",
    "            if var_to_plot == 'iterations':\n",
    "                ax.set_yticks(y_ticks_iters)\n",
    "                \n",
    "    plt.tight_layout()\n",
    "    plt.savefig(f'../figs/runtime_in_{x_variable}.pdf')\n",
    "    plt.show()"
   ]
  }
 ],
 "metadata": {
  "kernelspec": {
   "display_name": "Python 3",
   "language": "python",
   "name": "python3"
  },
  "language_info": {
   "codemirror_mode": {
    "name": "ipython",
    "version": 3
   },
   "file_extension": ".py",
   "mimetype": "text/x-python",
   "name": "python",
   "nbconvert_exporter": "python",
   "pygments_lexer": "ipython3",
   "version": "3.6.8"
  }
 },
 "nbformat": 4,
 "nbformat_minor": 2
}
