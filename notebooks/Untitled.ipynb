{
 "cells": [
  {
   "cell_type": "code",
   "execution_count": 4,
   "metadata": {},
   "outputs": [
    {
     "name": "stdout",
     "output_type": "stream",
     "text": [
      "The autoreload extension is already loaded. To reload it, use:\n",
      "  %reload_ext autoreload\n"
     ]
    }
   ],
   "source": [
    "%load_ext autoreload\n",
    "%autoreload 2"
   ]
  },
  {
   "cell_type": "code",
   "execution_count": 233,
   "metadata": {},
   "outputs": [],
   "source": [
    "from bnb.problem import OptimizationProblem\n",
    "import numpy as np\n",
    "from jax import numpy as jnp\n",
    "import matplotlib.pyplot as plt\n",
    "from scipy.optimize import minimize"
   ]
  },
  {
   "cell_type": "code",
   "execution_count": 234,
   "metadata": {},
   "outputs": [],
   "source": [
    "seed = 0\n",
    "a_range = (0.0, 1.0)\n",
    "b_range = (0.001, 0.01)\n",
    "n, m = 2, 1\n",
    "\n",
    "w = np.random.uniform(0, 1, size=m)\n",
    "w /= np.sum(w)\n",
    "a = [np.random.uniform(*a_range, size=n) for _ in range(m)]\n",
    "b = np.random.uniform(*b_range, size=n)"
   ]
  },
  {
   "cell_type": "code",
   "execution_count": 235,
   "metadata": {},
   "outputs": [],
   "source": [
    "problem = OptimizationProblem(a, b, w)\n",
    "\n",
    "E, k = problem.E, problem.k\n",
    "z_lb = np.exp(-problem.p_ub * problem.b)\n",
    "z_ub = np.exp(-problem.p_lb * problem.b)\n",
    "x_lb, x_ub = problem.x_lb, problem.x_ub\n",
    "x_lb = np.asarray([0.45])\n",
    "x_ub = np.asarray([0.46])\n",
    "\n",
    "x = np.asarray([0.455])\n",
    "kx = k @ x\n",
    "u = (1 - x) / x"
   ]
  },
  {
   "cell_type": "code",
   "execution_count": 256,
   "metadata": {},
   "outputs": [
    {
     "name": "stdout",
     "output_type": "stream",
     "text": [
      "[ 0.2701763   0.16168861  0.28332913 -0.00278431 -0.00689143]\n",
      "[ 0.27017623  0.16168865  0.28332911 -0.00278435 -0.00689141]\n"
     ]
    }
   ],
   "source": [
    "\n",
    "from jax import grad\n",
    "def _dual(theta):\n",
    "\n",
    "    lam = theta[:m]\n",
    "    nu_lb = - theta[m : n + m]\n",
    "    nu_ub = - theta[n + m :]\n",
    "    z = jnp.exp((E @ lam + nu_ub - nu_lb) / kx - 1)\n",
    "    return kx @ z - lam @ u + nu_lb @ z_lb - nu_ub @ z_ub\n",
    "\n",
    "theta = jnp.ones(m + 2*n)\n",
    "_dual(theta)\n",
    "\n",
    "g = grad(_dual)\n",
    "print(g(theta))\n",
    "\n",
    "def _dual_gradient(theta):\n",
    "    lam = theta[:m]\n",
    "    nu_lb = - theta[m : n + m]\n",
    "    nu_ub = - theta[n + m :]\n",
    "    z = np.exp((E.dot(lam) + nu_ub - nu_lb) / kx - 1)\n",
    "\n",
    "    # return np.hstack([E.T.dot(z) - u, (z_lb - z) * nu_lb, (z - z_ub) * nu_ub])\n",
    "    grad = np.hstack([E.T.dot(z) - u, z - z_lb, z_ub - z])\n",
    "    return grad\n",
    "\n",
    "print(_dual_gradient(theta))\n",
    "\n"
   ]
  },
  {
   "cell_type": "code",
   "execution_count": null,
   "metadata": {},
   "outputs": [],
   "source": []
  },
  {
   "cell_type": "code",
   "execution_count": 135,
   "metadata": {},
   "outputs": [
    {
     "data": {
      "image/png": "[encoded data removed]",
      "text/plain": [
       "<Figure size 432x288 with 1 Axes>"
      ]
     },
     "metadata": {
      "needs_background": "light"
     },
     "output_type": "display_data"
    }
   ],
   "source": [
    "def dual_new_ub(theta):\n",
    "    lam1, lam2, lam3, lam4 = theta[:m], theta[m:2*m], theta[2*m:2*m+n], theta[2*m+n:]\n",
    "    z = np.exp((E @ (lam1 - lam2) + lam3 - lam4) / kx - 1)\n",
    "    return (\n",
    "        z @ kx\n",
    "        + (1 - 1 / x_lb) @ lam1\n",
    "        + (1 / x_ub - 1) @ lam2\n",
    "        - lam3 @ z_ub\n",
    "        + lam4 @ z_lb\n",
    "    )\n",
    "\n",
    "\n",
    "y = []\n",
    "x = np.linspace(0, 1000, 100)\n",
    "for lam2 in x:\n",
    "    theta = np.asarray([1000, lam2, 0, 0, 0, 0])\n",
    "    y.append(dual_new_ub(theta))\n",
    "    \n",
    "plt.plot(x, y)\n",
    "plt.show()"
   ]
  },
  {
   "cell_type": "code",
   "execution_count": null,
   "metadata": {},
   "outputs": [],
   "source": []
  },
  {
   "cell_type": "code",
   "execution_count": 218,
   "metadata": {},
   "outputs": [],
   "source": [
    "y_min = np.inf\n",
    "theta_min = None\n",
    "draws = 1e7\n",
    "thetas = np.random.uniform(-100, 0, size=(int(draws), 2*m + 2*n))\n",
    "\n",
    "for theta in thetas:\n",
    "#     theta[2:] = 0\n",
    "#     theta[1] = 0\n",
    "    y = dual_new_ub(theta)\n",
    "    if y < y_min:\n",
    "        theta_min = theta\n",
    "        y_min = y"
   ]
  },
  {
   "cell_type": "code",
   "execution_count": 219,
   "metadata": {},
   "outputs": [
    {
     "data": {
      "text/plain": [
       "284.530783501036"
      ]
     },
     "execution_count": 219,
     "metadata": {},
     "output_type": "execute_result"
    }
   ],
   "source": [
    "dual_new_ub(theta_min)"
   ]
  },
  {
   "cell_type": "code",
   "execution_count": 220,
   "metadata": {},
   "outputs": [
    {
     "data": {
      "text/plain": [
       "array([-6.85691134e+00, -8.36520414e-02, -2.71092755e+00, -1.25084088e+01,\n",
       "       -4.05357987e-03, -4.37376335e+00])"
      ]
     },
     "execution_count": 220,
     "metadata": {},
     "output_type": "execute_result"
    }
   ],
   "source": [
    "theta_min"
   ]
  },
  {
   "cell_type": "code",
   "execution_count": 221,
   "metadata": {},
   "outputs": [
    {
     "data": {
      "text/plain": [
       "284.530783501036"
      ]
     },
     "execution_count": 221,
     "metadata": {},
     "output_type": "execute_result"
    }
   ],
   "source": [
    "y_min"
   ]
  },
  {
   "cell_type": "code",
   "execution_count": 25,
   "metadata": {},
   "outputs": [
    {
     "name": "stdout",
     "output_type": "stream",
     "text": [
      "712.0435818668125\n",
      "518.2302536844724\n",
      "Optimization terminated successfully.\n"
     ]
    }
   ],
   "source": [
    "m, n = 3, 10\n",
    "\n",
    "np.random.seed(1)\n",
    "w = np.random.uniform(0, 1, size=m)\n",
    "w /= np.sum(w)\n",
    "\n",
    "a_range = (-0.0, 4.0)\n",
    "b_range = (0.001, 0.01)\n",
    "a = [np.random.uniform(*a_range, size=n) for _ in range(m)]\n",
    "b = np.random.uniform(*b_range, size=n)\n",
    "problem = OptimizationProblem(a, b, w)\n",
    "\n",
    "# r = 0.1\n",
    "# x = np.asarray([0.5, 0.5, 0.5])\n",
    "c = 0\n",
    "segment = problem.segments[0]\n",
    "x_ub_c = 0.2\n",
    "x_lb_c = 0.1\n",
    "\n",
    "\n",
    "def inequality_1(q):\n",
    "    return np.sum(q) - 1 + x_ub_c\n",
    "\n",
    "def inequality_2(q):\n",
    "    return 1 - np.sum(q) - x_lb_c\n",
    "\n",
    "constr = [\n",
    "    {\"type\": \"ineq\", \"fun\": inequality_1},\n",
    "    {\"type\": \"ineq\", \"fun\": inequality_2},\n",
    "]\n",
    "\n",
    "opt = minimize(\n",
    "    lambda q: -segment.revenue(q),\n",
    "    np.zeros(n) + (x_ub_c + x_lb_c) / (2 * n),\n",
    "    bounds=[(0, 1)] * n, \n",
    "    method=\"SLSQP\",\n",
    "    constraints=constr,\n",
    ")\n",
    "\n",
    "print(np.sum(segment.p_opt * segment.purchase_probabilities(segment.p_opt)))\n",
    "print(-opt.fun)\n",
    "print(opt.message)"
   ]
  },
  {
   "cell_type": "code",
   "execution_count": 26,
   "metadata": {},
   "outputs": [
    {
     "data": {
      "text/plain": [
       "0.19999999999998697"
      ]
     },
     "execution_count": 26,
     "metadata": {},
     "output_type": "execute_result"
    }
   ],
   "source": [
    "1 - np.sum(opt.x)"
   ]
  },
  {
   "cell_type": "code",
   "execution_count": 27,
   "metadata": {},
   "outputs": [
    {
     "data": {
      "text/plain": [
       "0.5110744840298456"
      ]
     },
     "execution_count": 27,
     "metadata": {},
     "output_type": "execute_result"
    }
   ],
   "source": [
    "segment.x_opt"
   ]
  },
  {
   "cell_type": "code",
   "execution_count": 138,
   "metadata": {},
   "outputs": [
    {
     "data": {
      "text/plain": [
       "     fun: -1477.5271540696397\n",
       "     jac: array([-1464.1320343 ,  -566.15242004, -1402.08448792, -1470.13262939,\n",
       "       -1456.31904602,  -671.43203735, -1103.54161072, -1024.90971375,\n",
       "       -1470.72068787,  -369.03744507,  -806.99034119,  -923.03044128,\n",
       "       -1464.52592468,  -619.15496826,  -636.36912537, -1468.10058594,\n",
       "       -1468.12200928, -1469.22360229,  -828.82832336, -1463.89309692])\n",
       " message: 'Positive directional derivative for linesearch'\n",
       "    nfev: 2493\n",
       "     nit: 109\n",
       "    njev: 105\n",
       "  status: 8\n",
       " success: False\n",
       "       x: array([4.67888098e-01, 8.62550359e-06, 4.91943082e-05, 2.35071709e-04,\n",
       "       1.26149888e-03, 8.99086562e-06, 1.08130756e-05, 1.02992036e-05,\n",
       "       6.78696971e-03, 7.94848847e-06, 9.44668742e-06, 9.88575274e-06,\n",
       "       1.53389409e-03, 8.80956293e-06, 8.86825903e-06, 3.80307466e-04,\n",
       "       4.89003011e-03, 3.60067380e-04, 9.55205073e-06, 1.66082051e-02])"
      ]
     },
     "execution_count": 138,
     "metadata": {},
     "output_type": "execute_result"
    }
   ],
   "source": [
    "opt"
   ]
  },
  {
   "cell_type": "code",
   "execution_count": 104,
   "metadata": {},
   "outputs": [
    {
     "data": {
      "text/plain": [
       "array([2.86943688e-05, 4.22714793e-03, 1.20041169e-02, 3.17826984e-03,\n",
       "       6.93165878e-02, 6.49360616e-04, 4.60323686e-01, 1.98034694e-05,\n",
       "       5.85999071e-05, 3.94036583e-05, 4.36855292e-03, 5.78174078e-05,\n",
       "       3.06262317e-03, 7.41223923e-05, 8.53519266e-04, 8.50628937e-02,\n",
       "       7.80513296e-03, 4.67069292e-06, 1.46744913e-05, 3.67991434e-05])"
      ]
     },
     "execution_count": 104,
     "metadata": {},
     "output_type": "execute_result"
    }
   ],
   "source": [
    "opt.x"
   ]
  },
  {
   "cell_type": "code",
   "execution_count": 3,
   "metadata": {},
   "outputs": [
    {
     "name": "stdout",
     "output_type": "stream",
     "text": [
      "[0.00084775 0.00088435 0.00109621]\n",
      "0.0008674757486851759\n",
      "0.0008960558678077213\n",
      "0.0011241601415711289\n"
     ]
    }
   ],
   "source": [
    "m, n = 3, 100\n",
    "\n",
    "w = np.random.uniform(0, 1, size=m)\n",
    "w /= np.sum(w)\n",
    "\n",
    "a_range = (-0.0, 5.0)\n",
    "b_range = (0.001, 0.01)\n",
    "a = [np.random.uniform(*a_range, size=n) for _ in range(m)]\n",
    "b = np.random.uniform(*b_range, size=n)\n",
    "problem = OptimizationProblem(a, b, w)\n",
    "A, b = problem.A, problem.b\n",
    "\n",
    "def qvi(pi, ai, bi, w, vi):\n",
    "    u = ai - bi * pi  # (m, )\n",
    "    exp_u = np.exp(u)\n",
    "    return - np.sum(pi * w * exp_u / (1 + vi + exp_u))\n",
    "    \n",
    "\n",
    "\n",
    "v = np.zeros((m, 1))\n",
    "p_lb = np.copy(problem.p_lb)\n",
    "\n",
    "for _ in range(10):\n",
    "    \n",
    "    for i in range(n):\n",
    "        pi = p_lb[i]\n",
    "        ai = problem.A[:, i]\n",
    "        bi = problem.b[i]\n",
    "        w = problem.w\n",
    "        Ai = np.exp(A - b * p_lb)\n",
    "        Ai[:, i] = 0 \n",
    "        vi = np.sum(Ai, axis=1)\n",
    "        args = (ai, bi, w, vi)\n",
    "        opt = minimize(qvi, pi, args=args)\n",
    "        assert opt.success\n",
    "        p_lb[i] = opt.x\n",
    "\n",
    "    \n",
    "print(problem.x_lb)\n",
    "\n",
    "for segment in problem.segments:\n",
    "    print(segment.no_purchase_probability(p_lb))\n",
    "\n",
    "# for old, new in zip(problem.p_lb, p_lb):\n",
    "#     print(old, new)"
   ]
  },
  {
   "cell_type": "code",
   "execution_count": 10,
   "metadata": {},
   "outputs": [
    {
     "name": "stdout",
     "output_type": "stream",
     "text": [
      "[3.71364678e-05 5.46291048e-05]\n",
      "4.394849252642441e-05\n",
      "6.879936271464437e-05\n"
     ]
    }
   ],
   "source": []
  },
  {
   "cell_type": "code",
   "execution_count": 47,
   "metadata": {},
   "outputs": [
    {
     "data": {
      "text/plain": [
       "array([6.80632342, 5.63471697])"
      ]
     },
     "execution_count": 47,
     "metadata": {},
     "output_type": "execute_result"
    }
   ],
   "source": [
    "ai = problem.A[:, 0]"
   ]
  },
  {
   "cell_type": "code",
   "execution_count": 44,
   "metadata": {},
   "outputs": [
    {
     "data": {
      "text/plain": [
       "array([438.07376707, 188.89374566, 140.02956876, 149.92147247,\n",
       "       230.8399059 , 101.04087674, 127.79242457, 101.38554442,\n",
       "       250.59482942, 111.98999199, 205.33567477, 117.72454263,\n",
       "       570.15232684, 163.25074289, 129.42886411, 527.88651006,\n",
       "       361.54633844, 269.58142274, 256.38220606, 361.48184658,\n",
       "       150.56652004, 133.01312772, 394.78808626, 130.55837158,\n",
       "       357.50968908, 120.36485224, 112.74727259, 223.9994375 ,\n",
       "       100.85379914, 112.1420848 , 110.51282437, 100.16993924,\n",
       "       341.48058608, 212.08760726, 146.79151067, 123.40330529,\n",
       "       168.00706404, 362.76495797, 142.76598541, 159.22547853,\n",
       "       105.03921017, 139.32423076, 146.75006975, 204.52377835,\n",
       "       101.19718361, 247.6557068 , 448.38691497, 240.66771615,\n",
       "       400.70223392, 181.8771771 ])"
      ]
     },
     "execution_count": 44,
     "metadata": {},
     "output_type": "execute_result"
    }
   ],
   "source": [
    "problem.p_lb"
   ]
  },
  {
   "cell_type": "code",
   "execution_count": 40,
   "metadata": {},
   "outputs": [
    {
     "data": {
      "text/plain": [
       "(2, 1)"
      ]
     },
     "execution_count": 40,
     "metadata": {},
     "output_type": "execute_result"
    }
   ],
   "source": [
    "np.expand_dims(problem.w, axis=-1)"
   ]
  },
  {
   "cell_type": "code",
   "execution_count": 11,
   "metadata": {},
   "outputs": [
    {
     "data": {
      "text/plain": [
       "(50,)"
      ]
     },
     "execution_count": 11,
     "metadata": {},
     "output_type": "execute_result"
    }
   ],
   "source": [
    "np.sum(problem.A, axis=0).shape"
   ]
  },
  {
   "cell_type": "code",
   "execution_count": 14,
   "metadata": {},
   "outputs": [
    {
     "data": {
      "text/plain": [
       "(2, 50)"
      ]
     },
     "execution_count": 14,
     "metadata": {},
     "output_type": "execute_result"
    }
   ],
   "source": [
    "A, b = problem.A, problem.b\n"
   ]
  },
  {
   "cell_type": "code",
   "execution_count": 17,
   "metadata": {},
   "outputs": [],
   "source": [
    "from bnb.fml_solver import FMLSolver\n",
    "from bnb.problem import OptimizationProblem\n",
    "import numpy as np\n",
    "from scipy.optimize import minimize\n",
    "\n",
    "\n",
    "for _ in range(10000):\n",
    "    m, n = 2, 30\n",
    "\n",
    "    w = np.random.uniform(0, 1, size=m)\n",
    "    w /= np.sum(w)\n",
    "\n",
    "    a_range = (-0.0, 4.0)\n",
    "    b_range = (0.0001, 0.001)\n",
    "    a = [np.random.uniform(*a_range, size=n) for _ in range(m)]\n",
    "    b = np.random.uniform(*b_range, size=n)\n",
    "    problem = OptimizationProblem(a, b, w)\n",
    "    solver = FMLSolver(problem, epsilon=0.0001)\n",
    "    solver.solve()\n",
    "\n",
    "\n",
    "    cubes = [cube for cube in solver.cubes if cube.branch]\n",
    "    # print(cubes[0].center)\n",
    "    # print(np.max([np.max(cube.center) for cube in cubes]))\n",
    "    # print(problem.x_lb)\n",
    "    # print(problem.x_ub)\n",
    "    # print(problem.w * problem.x_ub)\n",
    "    # assert all(cubes[0].center > np.min(problem.w * problem.x_ub))\n",
    "    \n",
    "    xs = []\n",
    "    for i, center in enumerate(cubes[0].center):\n",
    "        x_opt = problem.segments[i].x_opt\n",
    "        wi = problem.w[i]\n",
    "        xs.append(wi * x_opt)\n",
    "    assert all(cubes[0].center > np.min(xs))\n",
    "        "
   ]
  },
  {
   "cell_type": "code",
   "execution_count": null,
   "metadata": {},
   "outputs": [],
   "source": []
  },
  {
   "cell_type": "code",
   "execution_count": 8,
   "metadata": {},
   "outputs": [
    {
     "data": {
      "text/plain": [
       "(0.26526747186590954, 0.26620551545222737)"
      ]
     },
     "execution_count": 8,
     "metadata": {},
     "output_type": "execute_result"
    }
   ],
   "source": [
    "center, wi * x_opt"
   ]
  },
  {
   "cell_type": "code",
   "execution_count": 2,
   "metadata": {},
   "outputs": [
    {
     "data": {
      "text/plain": [
       "0.26197504179746234"
      ]
     },
     "execution_count": 2,
     "metadata": {},
     "output_type": "execute_result"
    }
   ],
   "source": [
    "problem.segments[0].x_opt"
   ]
  },
  {
   "cell_type": "code",
   "execution_count": 77,
   "metadata": {},
   "outputs": [
    {
     "data": {
      "text/plain": [
       "array([2.57767377e-05, 2.94385843e-05])"
      ]
     },
     "execution_count": 77,
     "metadata": {},
     "output_type": "execute_result"
    }
   ],
   "source": [
    "problem.x_lb"
   ]
  },
  {
   "cell_type": "code",
   "execution_count": 81,
   "metadata": {},
   "outputs": [
    {
     "data": {
      "text/plain": [
       "1e-05"
      ]
     },
     "execution_count": 81,
     "metadata": {},
     "output_type": "execute_result"
    }
   ],
   "source": [
    "10 ** -5"
   ]
  },
  {
   "cell_type": "code",
   "execution_count": 16,
   "metadata": {},
   "outputs": [],
   "source": [
    "cube = solver.cubes[0]"
   ]
  },
  {
   "cell_type": "code",
   "execution_count": 33,
   "metadata": {},
   "outputs": [],
   "source": []
  },
  {
   "cell_type": "code",
   "execution_count": 37,
   "metadata": {},
   "outputs": [
    {
     "data": {
      "text/plain": [
       "0.2678123795667066"
      ]
     },
     "execution_count": 37,
     "metadata": {},
     "output_type": "execute_result"
    }
   ],
   "source": []
  },
  {
   "cell_type": "code",
   "execution_count": 36,
   "metadata": {},
   "outputs": [
    {
     "data": {
      "image/png": "[encoded data removed]",
      "text/plain": [
       "<Figure size 432x288 with 1 Axes>"
      ]
     },
     "metadata": {
      "needs_background": "light"
     },
     "output_type": "display_data"
    }
   ],
   "source": [
    "from matplotlib import pyplot as plt\n",
    "\n",
    "plt.hist([)\n",
    "plt.show()"
   ]
  },
  {
   "cell_type": "code",
   "execution_count": 5,
   "metadata": {},
   "outputs": [
    {
     "data": {
      "text/plain": [
       "array([0.00087508])"
      ]
     },
     "execution_count": 5,
     "metadata": {},
     "output_type": "execute_result"
    }
   ],
   "source": [
    "problem.x_lb"
   ]
  },
  {
   "cell_type": "code",
   "execution_count": 6,
   "metadata": {},
   "outputs": [
    {
     "data": {
      "text/plain": [
       "array([0.22555859])"
      ]
     },
     "execution_count": 6,
     "metadata": {},
     "output_type": "execute_result"
    }
   ],
   "source": [
    "problem.x_ub"
   ]
  }
 ],
 "metadata": {
  "kernelspec": {
   "display_name": "Python 3",
   "language": "python",
   "name": "python3"
  },
  "language_info": {
   "codemirror_mode": {
    "name": "ipython",
    "version": 3
   },
   "file_extension": ".py",
   "mimetype": "text/x-python",
   "name": "python",
   "nbconvert_exporter": "python",
   "pygments_lexer": "ipython3",
   "version": "3.6.8"
  }
 },
 "nbformat": 4,
 "nbformat_minor": 2
}
