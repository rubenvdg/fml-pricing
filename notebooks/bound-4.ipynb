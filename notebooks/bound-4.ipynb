{
 "cells": [
  {
   "cell_type": "code",
   "execution_count": 1,
   "metadata": {},
   "outputs": [],
   "source": [
    "%load_ext autoreload\n",
    "%autoreload 2"
   ]
  },
  {
   "cell_type": "code",
   "execution_count": 74,
   "metadata": {},
   "outputs": [],
   "source": [
    "import numpy as np\n",
    "from bnb.problem import OptimizationProblem\n",
    "from matplotlib import pyplot as plt\n",
    "import matplotlib\n",
    "from scipy.optimize import minimize\n",
    "import pandas as pd\n",
    "from bnb.fml_solver import FMLSolver\n",
    "import warnings\n",
    "from cvxopt.solvers import cp\n",
    "import time\n",
    "from numpy.linalg import matrix_rank\n",
    "import seaborn as sns\n",
    "from cvxopt import solvers, matrix, spdiag, log, mul\n",
    "from cvxopt import matrix_repr, matrix_str\n",
    "import pandas as pd\n",
    "from scipy.special import xlogy\n",
    "np.set_printoptions(precision=3)\n",
    "\n",
    "sns.set()\n",
    "matplotlib.rcParams.update({'font.size': 11, 'font.family': 'serif'})"
   ]
  },
  {
   "cell_type": "code",
   "execution_count": 106,
   "metadata": {},
   "outputs": [],
   "source": [
    "# np.random.seed(2)\n",
    "n, m = 20, 4\n",
    "\n",
    "a0 = np.random.uniform(0, 2, size=(m, n))\n",
    "b0 = np.random.uniform(0.1, 1.0, size=n)\n",
    "w0 = np.random.uniform(size=m)\n",
    "w0 /= np.sum(w0)\n",
    "\n",
    "problem = OptimizationProblem(a0, b0, w0)\n",
    "problem.k = problem.S * problem.w.reshape(1, -1) / problem.b.reshape(-1, 1)\n",
    "x_lb, x_ub = problem.x_lb, problem.x_ub\n",
    "\n",
    "solver = FMLSolver(problem)\n",
    "# solver.solve()\n",
    "\n",
    "k = solver.k\n",
    "z_lb = np.exp(-problem.p_ub * problem.b)\n",
    "z_ub = np.exp(-problem.p_lb * problem.b)\n",
    "\n",
    "k_mat = matrix(problem.k)\n",
    "S = np.exp(problem.A)"
   ]
  },
  {
   "cell_type": "code",
   "execution_count": 107,
   "metadata": {},
   "outputs": [],
   "source": [
    "theta_start = matrix(np.hstack((x_lb, (z_lb + z_ub) / 2)))\n",
    "r_start = matrix(np.ones(m + 1))"
   ]
  },
  {
   "cell_type": "code",
   "execution_count": 108,
   "metadata": {},
   "outputs": [
    {
     "data": {
      "text/plain": [
       "(5, 24)"
      ]
     },
     "execution_count": 108,
     "metadata": {},
     "output_type": "execute_result"
    }
   ],
   "source": [
    "def gradient(theta):\n",
    "    \n",
    "    # Df (m + 1, n)\n",
    "    x, z = theta[:m], theta[m:]\n",
    "    x_, z_ = np.asarray(x)[:, 0], np.asarray(z)[:, 0]\n",
    "    \n",
    "    obj_grad = np.vstack((\n",
    "        k_mat.T * mul(z, log(z)),  # m\n",
    "        mul(1 + log(z), k_mat * x)  # n\n",
    "    ))\n",
    "    \n",
    "    constr_grads = []\n",
    "    for c in range(m):\n",
    "        constr_grad = np.zeros(m + n)\n",
    "        constr_grad[c] = 1 + S[c] @ z_\n",
    "        constr_grad[m:] = x_[c] * S[c]\n",
    "        constr_grads.append(constr_grad)\n",
    "    constr_grads = np.vstack(constr_grads).T\n",
    "    return matrix(np.hstack((obj_grad, constr_grads)).T)\n",
    "\n",
    "np.asarray(gradient(theta_start)).shape"
   ]
  },
  {
   "cell_type": "code",
   "execution_count": 109,
   "metadata": {},
   "outputs": [
    {
     "data": {
      "text/plain": [
       "array([[ 0.   ,  0.   ,  0.   ,  0.   ,  0.   ,  0.   ,  0.   ,  0.   ,\n",
       "         0.   ,  0.   ,  0.   ,  0.   ,  0.   ,  0.   ,  0.   ,  0.   ,\n",
       "         0.   ,  0.   ,  0.   ,  0.   ,  0.   ,  0.   ,  0.   ,  0.   ],\n",
       "       [ 0.   ,  0.   ,  0.   ,  0.   ,  0.   ,  0.   ,  0.   ,  0.   ,\n",
       "         0.   ,  0.   ,  0.   ,  0.   ,  0.   ,  0.   ,  0.   ,  0.   ,\n",
       "         0.   ,  0.   ,  0.   ,  0.   ,  0.   ,  0.   ,  0.   ,  0.   ],\n",
       "       [ 0.   ,  0.   ,  0.   ,  0.   ,  0.   ,  0.   ,  0.   ,  0.   ,\n",
       "         0.   ,  0.   ,  0.   , -0.   , -0.   ,  0.   , -0.   ,  0.   ,\n",
       "         0.   ,  0.   ,  0.   ,  0.   ,  0.   ,  0.   ,  0.   ,  0.   ],\n",
       "       [ 0.   ,  0.   ,  0.   ,  0.   ,  0.   ,  0.   ,  0.   ,  0.   ,\n",
       "         0.   ,  0.   ,  0.   ,  0.   ,  0.   ,  0.   ,  0.   ,  0.   ,\n",
       "         0.   ,  0.   ,  0.   ,  0.   ,  0.   ,  0.   ,  0.   ,  0.   ],\n",
       "       [ 1.112,  1.921,  2.246,  5.495,  0.759,  0.   ,  0.   ,  0.   ,\n",
       "         0.   ,  0.   ,  0.   ,  0.   ,  0.   ,  0.   ,  0.   ,  0.   ,\n",
       "         0.   ,  0.   ,  0.   ,  0.   ,  0.   ,  0.   ,  0.   ,  0.   ],\n",
       "       [ 1.334,  1.809,  2.317,  2.357,  0.   ,  0.664,  0.   ,  0.   ,\n",
       "         0.   ,  0.   ,  0.   ,  0.   ,  0.   ,  0.   ,  0.   ,  0.   ,\n",
       "         0.   ,  0.   ,  0.   ,  0.   ,  0.   ,  0.   ,  0.   ,  0.   ],\n",
       "       [ 4.374,  3.451,  0.926,  3.403,  0.   ,  0.   ,  0.958,  0.   ,\n",
       "         0.   ,  0.   ,  0.   ,  0.   ,  0.   ,  0.   ,  0.   ,  0.   ,\n",
       "         0.   ,  0.   ,  0.   ,  0.   ,  0.   ,  0.   ,  0.   ,  0.   ],\n",
       "       [ 3.374,  0.415,  0.483,  1.243,  0.   ,  0.   ,  0.   ,  1.242,\n",
       "         0.   ,  0.   ,  0.   ,  0.   ,  0.   ,  0.   ,  0.   ,  0.   ,\n",
       "         0.   ,  0.   ,  0.   ,  0.   ,  0.   ,  0.   ,  0.   ,  0.   ],\n",
       "       [ 1.193,  2.434,  1.264,  3.061,  0.   ,  0.   ,  0.   ,  0.   ,\n",
       "         0.624,  0.   ,  0.   ,  0.   ,  0.   ,  0.   ,  0.   ,  0.   ,\n",
       "         0.   ,  0.   ,  0.   ,  0.   ,  0.   ,  0.   ,  0.   ,  0.   ],\n",
       "       [ 3.34 ,  0.789,  2.007,  0.702,  0.   ,  0.   ,  0.   ,  0.   ,\n",
       "         0.   ,  2.212,  0.   ,  0.   ,  0.   ,  0.   ,  0.   ,  0.   ,\n",
       "         0.   ,  0.   ,  0.   ,  0.   ,  0.   ,  0.   ,  0.   ,  0.   ],\n",
       "       [ 4.204,  1.965,  0.705,  1.323,  0.   ,  0.   ,  0.   ,  0.   ,\n",
       "         0.   ,  0.   ,  0.506,  0.   ,  0.   ,  0.   ,  0.   ,  0.   ,\n",
       "         0.   ,  0.   ,  0.   ,  0.   ,  0.   ,  0.   ,  0.   ,  0.   ],\n",
       "       [ 0.987,  0.235, -1.288,  1.063,  0.   ,  0.   ,  0.   ,  0.   ,\n",
       "         0.   ,  0.   ,  0.   ,  5.791,  0.   ,  0.   ,  0.   ,  0.   ,\n",
       "         0.   ,  0.   ,  0.   ,  0.   ,  0.   ,  0.   ,  0.   ,  0.   ],\n",
       "       [ 2.617,  0.306, -0.201,  1.193,  0.   ,  0.   ,  0.   ,  0.   ,\n",
       "         0.   ,  0.   ,  0.   ,  0.   ,  2.958,  0.   ,  0.   ,  0.   ,\n",
       "         0.   ,  0.   ,  0.   ,  0.   ,  0.   ,  0.   ,  0.   ,  0.   ],\n",
       "       [ 2.047,  1.208,  1.989,  6.043,  0.   ,  0.   ,  0.   ,  0.   ,\n",
       "         0.   ,  0.   ,  0.   ,  0.   ,  0.   ,  0.88 ,  0.   ,  0.   ,\n",
       "         0.   ,  0.   ,  0.   ,  0.   ,  0.   ,  0.   ,  0.   ,  0.   ],\n",
       "       [ 0.831,  0.276, -0.051,  3.728,  0.   ,  0.   ,  0.   ,  0.   ,\n",
       "         0.   ,  0.   ,  0.   ,  0.   ,  0.   ,  0.   ,  2.485,  0.   ,\n",
       "         0.   ,  0.   ,  0.   ,  0.   ,  0.   ,  0.   ,  0.   ,  0.   ],\n",
       "       [ 2.401,  3.148,  0.852,  0.95 ,  0.   ,  0.   ,  0.   ,  0.   ,\n",
       "         0.   ,  0.   ,  0.   ,  0.   ,  0.   ,  0.   ,  0.   ,  1.358,\n",
       "         0.   ,  0.   ,  0.   ,  0.   ,  0.   ,  0.   ,  0.   ,  0.   ],\n",
       "       [ 2.213,  1.372,  1.682,  1.209,  0.   ,  0.   ,  0.   ,  0.   ,\n",
       "         0.   ,  0.   ,  0.   ,  0.   ,  0.   ,  0.   ,  0.   ,  0.   ,\n",
       "         1.769,  0.   ,  0.   ,  0.   ,  0.   ,  0.   ,  0.   ,  0.   ],\n",
       "       [ 4.686,  3.054,  1.124,  0.773,  0.   ,  0.   ,  0.   ,  0.   ,\n",
       "         0.   ,  0.   ,  0.   ,  0.   ,  0.   ,  0.   ,  0.   ,  0.   ,\n",
       "         0.   ,  2.876,  0.   ,  0.   ,  0.   ,  0.   ,  0.   ,  0.   ],\n",
       "       [ 2.551,  1.938,  1.79 ,  1.397,  0.   ,  0.   ,  0.   ,  0.   ,\n",
       "         0.   ,  0.   ,  0.   ,  0.   ,  0.   ,  0.   ,  0.   ,  0.   ,\n",
       "         0.   ,  0.   ,  1.922,  0.   ,  0.   ,  0.   ,  0.   ,  0.   ],\n",
       "       [ 4.635,  0.95 ,  0.732,  5.076,  0.   ,  0.   ,  0.   ,  0.   ,\n",
       "         0.   ,  0.   ,  0.   ,  0.   ,  0.   ,  0.   ,  0.   ,  0.   ,\n",
       "         0.   ,  0.   ,  0.   ,  1.174,  0.   ,  0.   ,  0.   ,  0.   ],\n",
       "       [ 2.259,  1.048,  1.022,  2.647,  0.   ,  0.   ,  0.   ,  0.   ,\n",
       "         0.   ,  0.   ,  0.   ,  0.   ,  0.   ,  0.   ,  0.   ,  0.   ,\n",
       "         0.   ,  0.   ,  0.   ,  0.   ,  0.492,  0.   ,  0.   ,  0.   ],\n",
       "       [ 3.71 ,  1.287,  2.673,  0.869,  0.   ,  0.   ,  0.   ,  0.   ,\n",
       "         0.   ,  0.   ,  0.   ,  0.   ,  0.   ,  0.   ,  0.   ,  0.   ,\n",
       "         0.   ,  0.   ,  0.   ,  0.   ,  0.   ,  1.049,  0.   ,  0.   ],\n",
       "       [ 6.391,  3.522,  0.896,  2.43 ,  0.   ,  0.   ,  0.   ,  0.   ,\n",
       "         0.   ,  0.   ,  0.   ,  0.   ,  0.   ,  0.   ,  0.   ,  0.   ,\n",
       "         0.   ,  0.   ,  0.   ,  0.   ,  0.   ,  0.   ,  0.794,  0.   ],\n",
       "       [ 0.952,  1.876,  4.182,  5.475,  0.   ,  0.   ,  0.   ,  0.   ,\n",
       "         0.   ,  0.   ,  0.   ,  0.   ,  0.   ,  0.   ,  0.   ,  0.   ,\n",
       "         0.   ,  0.   ,  0.   ,  0.   ,  0.   ,  0.   ,  0.   ,  1.191]])"
      ]
     },
     "execution_count": 109,
     "metadata": {},
     "output_type": "execute_result"
    }
   ],
   "source": [
    "def _get_obj_hess(x, z):\n",
    "    # dfdf / dz_j dx_c = k_{jc} * (1 + log(z_j)) # m * n\n",
    "    hess = np.zeros((n + m, n + m))\n",
    "    dxdz = np.diag(1 + np.log(z)) @ k  # n * m\n",
    "    hess[m:, :m] = dxdz\n",
    "    hess[:m, m:] = dxdz.T\n",
    "    diag = np.hstack((np.zeros(m), 1 / z * (k @ x)))\n",
    "    np.fill_diagonal(hess, diag)\n",
    "    return hess\n",
    "\n",
    "\n",
    "def hess(theta, r):\n",
    "    x_, z_ = theta[:m], theta[m:]\n",
    "    x, z, = np.asarray(x_)[:, 0], np.asarray(z_)[:, 0]\n",
    "    \n",
    "    # hess objective + hess constraint 1 + hess constraint 2\n",
    "    hess_ = r[0] * _get_obj_hess(x, z)\n",
    "    \n",
    "    for c in range(m):\n",
    "        hess_[c, m:] += r[c + 1] * S[c]\n",
    "        hess_[m:, c] += r[c + 1] * S[c]\n",
    "        \n",
    "    hess_ *= np.tri(*hess_.shape)\n",
    "    \n",
    "    return matrix(hess_)\n",
    "    \n",
    "# bounds = list(zip(x_lb, x_ub)) + list(zip(z_lb, z_ub))\n",
    "np.asarray(hess(theta_start, r_start))"
   ]
  },
  {
   "cell_type": "code",
   "execution_count": 110,
   "metadata": {},
   "outputs": [
    {
     "data": {
      "text/plain": [
       "(-0.458436844583762, -2.116602448764481)"
      ]
     },
     "execution_count": 110,
     "metadata": {},
     "output_type": "execute_result"
    }
   ],
   "source": [
    "G = matrix(np.vstack((np.identity(m + n), - np.identity(m + n))))\n",
    "\n",
    "h = matrix(np.hstack((\n",
    "    x_ub,\n",
    "    z_ub,\n",
    "    - x_lb,\n",
    "    - z_lb\n",
    ")))\n",
    "\n",
    "\n",
    "def _cnstr(theta, c):\n",
    "    x, z = theta[:m, 0], theta[m:, 0]\n",
    "    return x[c] + x[c] * (S[c] @ z) - 1\n",
    "\n",
    "\n",
    "def _objective(theta):\n",
    "    x, z = theta[:m], theta[m:]\n",
    "    return np.sum(xlogy(z, z) * (problem.k @ x))\n",
    "\n",
    "\n",
    "def F(x=None, z=None):\n",
    "    \n",
    "    # print(z)\n",
    "    \n",
    "    if x is None:\n",
    "        return m, matrix(theta_start)\n",
    "    \n",
    "    if min(x) <= 0.0:\n",
    "        return None\n",
    "\n",
    "    x_ = np.asarray(x)\n",
    "    f = matrix([_objective(x_)] + [_cnstr(x_, c) for c in range(m)])\n",
    "    Df = gradient(x)    \n",
    "    \n",
    "    if z is None:\n",
    "        return f, Df\n",
    "    \n",
    "    H = hess(x, z)\n",
    "    # print(matrix_rank(np.vstack((H, Df, G))))\n",
    "\n",
    "    return f, Df, H\n",
    "\n",
    "f, Df, H = F(x=theta_start, z=r_start)\n",
    "_cnstr(np.asarray(theta_start), 0), _objective(np.asarray(theta_start))"
   ]
  },
  {
   "cell_type": "code",
   "execution_count": 111,
   "metadata": {},
   "outputs": [],
   "source": [
    "solvers.options[\"show_progress\"] = False\n",
    "solvers.options['maxiters'] = 100"
   ]
  },
  {
   "cell_type": "code",
   "execution_count": 116,
   "metadata": {},
   "outputs": [
    {
     "data": {
      "text/plain": [
       "array([[4.585e-01],\n",
       "       [4.169e-01],\n",
       "       [3.948e-01],\n",
       "       [4.179e-01],\n",
       "       [1.525e-04],\n",
       "       [2.274e-04],\n",
       "       [8.126e-04],\n",
       "       [2.875e-02],\n",
       "       [2.650e-04],\n",
       "       [1.908e-02],\n",
       "       [3.771e-04],\n",
       "       [1.210e-01],\n",
       "       [1.132e-01],\n",
       "       [5.369e-04],\n",
       "       [7.800e-02],\n",
       "       [7.321e-03],\n",
       "       [1.379e-02],\n",
       "       [2.306e-02],\n",
       "       [1.215e-02],\n",
       "       [5.736e-03],\n",
       "       [4.507e-04],\n",
       "       [1.962e-03],\n",
       "       [3.071e-04],\n",
       "       [3.763e-04]])"
      ]
     },
     "execution_count": 116,
     "metadata": {},
     "output_type": "execute_result"
    }
   ],
   "source": [
    "sol = solvers.cp(F, G=G, h=h, kktsolver=\"ldl\")\n",
    "np.asarray(sol[\"x\"])"
   ]
  },
  {
   "cell_type": "code",
   "execution_count": null,
   "metadata": {},
   "outputs": [],
   "source": []
  },
  {
   "cell_type": "code",
   "execution_count": null,
   "metadata": {},
   "outputs": [],
   "source": []
  },
  {
   "cell_type": "code",
   "execution_count": null,
   "metadata": {},
   "outputs": [],
   "source": []
  },
  {
   "cell_type": "code",
   "execution_count": null,
   "metadata": {},
   "outputs": [],
   "source": []
  },
  {
   "cell_type": "code",
   "execution_count": null,
   "metadata": {},
   "outputs": [],
   "source": []
  },
  {
   "cell_type": "code",
   "execution_count": null,
   "metadata": {},
   "outputs": [],
   "source": [
    "# Rank([H(x); A; Df(x); G]) < n\n"
   ]
  },
  {
   "cell_type": "code",
   "execution_count": 20,
   "metadata": {
    "scrolled": false
   },
   "outputs": [
    {
     "name": "stdout",
     "output_type": "stream",
     "text": [
      "LB: -inf, UB: inf.\n",
      "number of cubes:  16\n",
      "LB: 666.2137515167631, UB: inf.\n",
      "number of cubes:  64\n",
      "LB: 669.5753889088821, UB: inf.\n",
      "number of cubes:  800\n",
      "LB: 695.1234016113383, UB: inf.\n",
      "number of cubes:  5216\n",
      "LB: 697.0491550668996, UB: inf.\n",
      "number of cubes:  23040\n",
      "LB: 699.2246791242945, UB: inf.\n",
      "number of cubes:  56240\n",
      "LB: 699.4133776859809, UB: 1588.7600576855075.\n",
      "number of cubes:  68960\n",
      "LB: 699.4630148257604, UB: 735.6768123202612.\n",
      "number of cubes:  2352\n",
      "LB: 699.4977137013334, UB: 699.5536744999304.\n",
      "cnstr:  0.9289973502579139\n",
      "cnstr:  0.965132941465093\n",
      "cnstr:  0.9543953998266457\n",
      "cnstr:  0.9510671411367578\n",
      "     fun: -688.3079091030831\n",
      "     jac: array([-1.49284468e+01, -5.62872197e+02, -9.55538660e+02, -9.53040972e+02,\n",
      "       -6.28257727e-03, -2.07664618e-02, -1.05263711e-02, -1.79244653e-02,\n",
      "       -9.72319218e-03, -1.20327298e-02, -8.73258269e-03, -1.10358940e-02,\n",
      "       -2.44876761e-03, -1.14910086e-02])\n",
      " message: 'Positive directional derivative for linesearch'\n",
      "    nfev: 46\n",
      "     nit: 48\n",
      "    njev: 44\n",
      "  status: 8\n",
      " success: False\n",
      "       x: array([5.89024093e-01, 4.75872057e-01, 2.01100877e-01, 2.30315262e-01,\n",
      "       1.43509561e+02, 1.47457621e+02, 4.50881390e+03, 2.40724579e+03,\n",
      "       1.20794432e+04, 5.48733357e+03, 1.29126391e+01, 7.53270339e+03,\n",
      "       2.93780475e+03, 1.06114490e+04])\n"
     ]
    }
   ],
   "source": [
    "from scipy.special import xlogy\n",
    "np.random.seed(1)\n",
    "n, m = 10, 4\n",
    "\n",
    "a0 = np.random.uniform(0, 4, size=(m, n))\n",
    "b0 = np.random.uniform(0.001, 0.01, size=n)\n",
    "w0 = np.random.uniform(size=m)\n",
    "w0 /= np.sum(w0)\n",
    "\n",
    "problem = OptimizationProblem(a0, b0, w0)\n",
    "problem.k = problem.S * problem.w.reshape(1, -1) / problem.b.reshape(-1, 1)\n",
    "x_lb, x_ub = problem.x_lb, problem.x_ub\n",
    "\n",
    "solver = FMLSolver(problem)\n",
    "solver.solve()\n",
    "\n",
    "k = solver.k\n",
    "z_lb = np.exp(-problem.p_ub * problem.b)\n",
    "z_ub = np.exp(-problem.p_lb * problem.b)\n",
    "min_z = np.min(z_lb)\n",
    "\n",
    "z_lb /= min_z\n",
    "z_ub /= min_z\n",
    "\n",
    "# x_lb = np.asarray([0.19674673, 0.10397393, 0.01786247])\n",
    "# x_ub = np.asarray([0.11, 0.11, 0.11])\n",
    "# x_ub = x_lb + 0.0000001\n",
    "\n",
    "S = np.exp(problem.A)\n",
    "\n",
    "def cnstr(theta, c):\n",
    "    x, z = theta[:m], theta[m:] * min_z\n",
    "    return 1 - x[c] - x[c] * (S[c] @ z)  # >= 0\n",
    "\n",
    "def objective(theta):\n",
    "    x, z = theta[:m], theta[m:] * min_z\n",
    "    return np.sum(xlogy(z, z) * (problem.k @ x))\n",
    "\n",
    "def jac(theta):\n",
    "    x, z = theta[:m], theta[m:] * min_z\n",
    "    return np.hstack((\n",
    "        xlogy(z, z) @ k,\n",
    "        min_z * (1 + np.log(z)) * (k @ x)\n",
    "    ))\n",
    "\n",
    "constraints = (\n",
    "    [{\"type\": \"ineq\", \"fun\": lambda theta, c=c: cnstr(theta, c)} for c in range(m)]\n",
    ")\n",
    "\n",
    "# theta_start = np.hstack(((x_lb + x_ub) / 2, (z_ub + z_lb) / 2))\n",
    "theta_start = np.hstack((x_lb, z_lb))\n",
    "\n",
    "bounds = list(zip(x_lb, x_ub)) + list(zip(z_lb, z_ub))\n",
    "\n",
    "for cnstr_ in constraints:\n",
    "    print('cnstr: ', cnstr_[\"fun\"](theta_start))\n",
    "\n",
    "opt = minimize(\n",
    "    objective,\n",
    "    theta_start,\n",
    "    bounds=bounds,\n",
    "    constraints=constraints,\n",
    "    jac=jac,\n",
    "    method=\"SLSQP\",\n",
    "    options={\"maxiter\": 1e6}\n",
    ")\n",
    "\n",
    "print(opt)"
   ]
  },
  {
   "cell_type": "code",
   "execution_count": 14,
   "metadata": {},
   "outputs": [
    {
     "data": {
      "text/plain": [
       "array([0.19674673, 0.10397393, 0.01786247])"
      ]
     },
     "execution_count": 14,
     "metadata": {},
     "output_type": "execute_result"
    }
   ],
   "source": [
    "solver.cubes[0].center"
   ]
  },
  {
   "cell_type": "code",
   "execution_count": 9,
   "metadata": {},
   "outputs": [
    {
     "data": {
      "text/plain": [
       "array([5.47177689e-02, 2.90326675e-03, 2.19805771e-05, 1.04747199e-03,\n",
       "       2.47209592e-04, 7.58726658e-03, 2.59601296e-04, 6.74620868e-05,\n",
       "       1.13355631e-01, 1.45495366e-04])"
      ]
     },
     "execution_count": 9,
     "metadata": {},
     "output_type": "execute_result"
    }
   ],
   "source": [
    "z_lb"
   ]
  },
  {
   "cell_type": "code",
   "execution_count": 25,
   "metadata": {},
   "outputs": [
    {
     "data": {
      "text/plain": [
       "     fun: -3694.4727843837227\n",
       "     jac: array([-2.50951657e+03, -2.68474533e+03, -2.37769562e+03,  6.10351562e-05,\n",
       "        6.10351562e-05,  0.00000000e+00,  6.10351562e-05,  0.00000000e+00,\n",
       "        0.00000000e+00,  0.00000000e+00,  0.00000000e+00,  0.00000000e+00,\n",
       "        0.00000000e+00])\n",
       " message: 'Optimization terminated successfully.'\n",
       "    nfev: 30\n",
       "     nit: 2\n",
       "    njev: 2\n",
       "  status: 0\n",
       " success: True\n",
       "       x: array([0.5226932 , 0.59345371, 0.33204144, 0.36787944, 0.36787944,\n",
       "       0.36787944, 0.36787944, 0.36787944, 0.36787944, 0.36787944,\n",
       "       0.36787944, 0.36787944, 0.36787944])"
      ]
     },
     "execution_count": 25,
     "metadata": {},
     "output_type": "execute_result"
    }
   ],
   "source": [
    "z_lb = np.exp(-problem.p_ub * problem.b)\n",
    "z_ub = np.exp(-problem.p_lb * problem.b)\n",
    "S = np.exp(problem.A)\n",
    "\n",
    "def cnstr_1(theta, c):\n",
    "    z = theta[m:]\n",
    "    return 1 / problem.x_lb[c] - 1 - S[c] @ z  # >= 0\n",
    "\n",
    "def cnstr_2(theta, c):\n",
    "    z = theta[m:]\n",
    "    return 1 + S[c] @ z - 1 / problem.x_ub[c]   # >= 0\n",
    "\n",
    "constraints = (\n",
    "    [{\"type\": \"ineq\", \"fun\": lambda theta, c=c: cnstr_1(theta, c)} for c in range(m)] +\n",
    "    [{\"type\": \"ineq\", \"fun\": lambda theta, c=c: cnstr_2(theta, c)} for c in range(m)]\n",
    ")\n",
    "\n",
    "theta_start = np.hstack(((problem.x_ub + problem.x_lb) / 2, (z_ub + z_lb) / 2))\n",
    "\n",
    "bounds = list(zip(problem.x_lb, problem.x_ub)) + list(zip(z_lb, z_ub))\n",
    "\n",
    "def objective(theta):\n",
    "    x, z = theta[:m], theta[m:]\n",
    "    return np.sum(z * np.log(z) * (problem.k @ x))\n",
    "\n",
    "opt = minimize(\n",
    "    objective,\n",
    "    theta_start,\n",
    "    bounds=bounds,\n",
    "    constraints=constraints\n",
    ")\n",
    "\n",
    "opt"
   ]
  },
  {
   "cell_type": "code",
   "execution_count": null,
   "metadata": {},
   "outputs": [],
   "source": []
  },
  {
   "cell_type": "code",
   "execution_count": 6,
   "metadata": {},
   "outputs": [
    {
     "ename": "TypeError",
     "evalue": "Constraints must be defined using a dictionary.",
     "output_type": "error",
     "traceback": [
      "\u001b[0;31m----------------------------------------------------------------------\u001b[0m",
      "\u001b[0;31mTypeError\u001b[0m                            Traceback (most recent call last)",
      "\u001b[0;32m~/.pyenv/versions/3.6.8/envs/fml-pricing/lib/python3.6/site-packages/scipy/optimize/slsqp.py\u001b[0m in \u001b[0;36m_minimize_slsqp\u001b[0;34m(func, x0, args, jac, bounds, constraints, maxiter, ftol, iprint, disp, eps, callback, **unknown_options)\u001b[0m\n\u001b[1;32m    253\u001b[0m         \u001b[0;32mtry\u001b[0m\u001b[0;34m:\u001b[0m\u001b[0;34m\u001b[0m\u001b[0;34m\u001b[0m\u001b[0m\n\u001b[0;32m--> 254\u001b[0;31m             \u001b[0mctype\u001b[0m \u001b[0;34m=\u001b[0m \u001b[0mcon\u001b[0m\u001b[0;34m[\u001b[0m\u001b[0;34m'type'\u001b[0m\u001b[0;34m]\u001b[0m\u001b[0;34m.\u001b[0m\u001b[0mlower\u001b[0m\u001b[0;34m(\u001b[0m\u001b[0;34m)\u001b[0m\u001b[0;34m\u001b[0m\u001b[0;34m\u001b[0m\u001b[0m\n\u001b[0m\u001b[1;32m    255\u001b[0m         \u001b[0;32mexcept\u001b[0m \u001b[0mKeyError\u001b[0m\u001b[0;34m:\u001b[0m\u001b[0;34m\u001b[0m\u001b[0;34m\u001b[0m\u001b[0m\n",
      "\u001b[0;31mTypeError\u001b[0m: 'LinearConstraint' object is not subscriptable",
      "\nDuring handling of the above exception, another exception occurred:\n",
      "\u001b[0;31mTypeError\u001b[0m                            Traceback (most recent call last)",
      "\u001b[0;32m<ipython-input-6-ebafb6ba320f>\u001b[0m in \u001b[0;36m<module>\u001b[0;34m\u001b[0m\n\u001b[1;32m     18\u001b[0m     \u001b[0mtheta_start\u001b[0m\u001b[0;34m,\u001b[0m\u001b[0;34m\u001b[0m\u001b[0;34m\u001b[0m\u001b[0m\n\u001b[1;32m     19\u001b[0m     \u001b[0mbounds\u001b[0m\u001b[0;34m=\u001b[0m\u001b[0mbounds\u001b[0m\u001b[0;34m,\u001b[0m\u001b[0;34m\u001b[0m\u001b[0;34m\u001b[0m\u001b[0m\n\u001b[0;32m---> 20\u001b[0;31m     \u001b[0mconstraints\u001b[0m\u001b[0;34m=\u001b[0m\u001b[0mconstraints\u001b[0m\u001b[0;34m\u001b[0m\u001b[0;34m\u001b[0m\u001b[0m\n\u001b[0m\u001b[1;32m     21\u001b[0m )\n",
      "\u001b[0;32m~/.pyenv/versions/3.6.8/envs/fml-pricing/lib/python3.6/site-packages/scipy/optimize/_minimize.py\u001b[0m in \u001b[0;36mminimize\u001b[0;34m(fun, x0, args, method, jac, hess, hessp, bounds, constraints, tol, callback, options)\u001b[0m\n\u001b[1;32m    609\u001b[0m     \u001b[0;32melif\u001b[0m \u001b[0mmeth\u001b[0m \u001b[0;34m==\u001b[0m \u001b[0;34m'slsqp'\u001b[0m\u001b[0;34m:\u001b[0m\u001b[0;34m\u001b[0m\u001b[0;34m\u001b[0m\u001b[0m\n\u001b[1;32m    610\u001b[0m         return _minimize_slsqp(fun, x0, args, jac, bounds,\n\u001b[0;32m--> 611\u001b[0;31m                                constraints, callback=callback, **options)\n\u001b[0m\u001b[1;32m    612\u001b[0m     \u001b[0;32melif\u001b[0m \u001b[0mmeth\u001b[0m \u001b[0;34m==\u001b[0m \u001b[0;34m'trust-constr'\u001b[0m\u001b[0;34m:\u001b[0m\u001b[0;34m\u001b[0m\u001b[0;34m\u001b[0m\u001b[0m\n\u001b[1;32m    613\u001b[0m         return _minimize_trustregion_constr(fun, x0, args, jac, hess, hessp,\n",
      "\u001b[0;32m~/.pyenv/versions/3.6.8/envs/fml-pricing/lib/python3.6/site-packages/scipy/optimize/slsqp.py\u001b[0m in \u001b[0;36m_minimize_slsqp\u001b[0;34m(func, x0, args, jac, bounds, constraints, maxiter, ftol, iprint, disp, eps, callback, **unknown_options)\u001b[0m\n\u001b[1;32m    256\u001b[0m             \u001b[0;32mraise\u001b[0m \u001b[0mKeyError\u001b[0m\u001b[0;34m(\u001b[0m\u001b[0;34m'Constraint %d has no type defined.'\u001b[0m \u001b[0;34m%\u001b[0m \u001b[0mic\u001b[0m\u001b[0;34m)\u001b[0m\u001b[0;34m\u001b[0m\u001b[0;34m\u001b[0m\u001b[0m\n\u001b[1;32m    257\u001b[0m         \u001b[0;32mexcept\u001b[0m \u001b[0mTypeError\u001b[0m\u001b[0;34m:\u001b[0m\u001b[0;34m\u001b[0m\u001b[0;34m\u001b[0m\u001b[0m\n\u001b[0;32m--> 258\u001b[0;31m             raise TypeError('Constraints must be defined using a '\n\u001b[0m\u001b[1;32m    259\u001b[0m                             'dictionary.')\n\u001b[1;32m    260\u001b[0m         \u001b[0;32mexcept\u001b[0m \u001b[0mAttributeError\u001b[0m\u001b[0;34m:\u001b[0m\u001b[0;34m\u001b[0m\u001b[0;34m\u001b[0m\u001b[0m\n",
      "\u001b[0;31mTypeError\u001b[0m: Constraints must be defined using a dictionary."
     ]
    }
   ],
   "source": [
    "# from scipy.optimize import LinearConstraint\n",
    "\n",
    "# constr_1 = LinearConstraint(S, -np.inf, 1 / problem.x_lb - 1)\n",
    "# constr_2 = LinearConstraint(-S, -np.inf,  1 - 1 / problem.x_ub)\n",
    "\n",
    "# constraints = [constr_1, constr_2]\n",
    "\n"
   ]
  },
  {
   "cell_type": "code",
   "execution_count": 62,
   "metadata": {},
   "outputs": [],
   "source": []
  },
  {
   "cell_type": "code",
   "execution_count": 59,
   "metadata": {},
   "outputs": [
    {
     "data": {
      "text/plain": [
       "array([ -8.80413801, -16.39376441, -35.66130005])"
      ]
     },
     "execution_count": 59,
     "metadata": {},
     "output_type": "execute_result"
    }
   ],
   "source": [
    "cnstr_2(theta_start)"
   ]
  },
  {
   "cell_type": "code",
   "execution_count": null,
   "metadata": {},
   "outputs": [],
   "source": []
  }
 ],
 "metadata": {
  "kernelspec": {
   "display_name": "Python 3",
   "language": "python",
   "name": "python3"
  },
  "language_info": {
   "codemirror_mode": {
    "name": "ipython",
    "version": 3
   },
   "file_extension": ".py",
   "mimetype": "text/x-python",
   "name": "python",
   "nbconvert_exporter": "python",
   "pygments_lexer": "ipython3",
   "version": "3.6.8"
  }
 },
 "nbformat": 4,
 "nbformat_minor": 2
}
